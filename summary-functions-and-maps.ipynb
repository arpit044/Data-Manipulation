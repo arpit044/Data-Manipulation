{
 "cells": [
  {
   "cell_type": "markdown",
   "id": "tired-thompson",
   "metadata": {
    "papermill": {
     "duration": 0.018949,
     "end_time": "2021-05-13T16:51:27.700031",
     "exception": false,
     "start_time": "2021-05-13T16:51:27.681082",
     "status": "completed"
    },
    "tags": []
   },
   "source": [
    "**This notebook is an exercise in the [Pandas](https://www.kaggle.com/learn/pandas) course.  You can reference the tutorial at [this link](https://www.kaggle.com/residentmario/summary-functions-and-maps).**\n",
    "\n",
    "---\n"
   ]
  },
  {
   "cell_type": "markdown",
   "id": "level-baking",
   "metadata": {
    "papermill": {
     "duration": 0.016812,
     "end_time": "2021-05-13T16:51:27.733182",
     "exception": false,
     "start_time": "2021-05-13T16:51:27.716370",
     "status": "completed"
    },
    "tags": []
   },
   "source": [
    "# Introduction\n",
    "\n",
    "Now you are ready to get a deeper understanding of your data.\n",
    "\n",
    "Run the following cell to load your data and some utility functions (including code to check your answers)."
   ]
  },
  {
   "cell_type": "code",
   "execution_count": 1,
   "id": "every-offense",
   "metadata": {
    "execution": {
     "iopub.execute_input": "2021-05-13T16:51:27.769675Z",
     "iopub.status.busy": "2021-05-13T16:51:27.768509Z",
     "iopub.status.idle": "2021-05-13T16:51:35.598876Z",
     "shell.execute_reply": "2021-05-13T16:51:35.599451Z"
    },
    "papermill": {
     "duration": 7.850494,
     "end_time": "2021-05-13T16:51:35.599768",
     "exception": false,
     "start_time": "2021-05-13T16:51:27.749274",
     "status": "completed"
    },
    "tags": []
   },
   "outputs": [
    {
     "name": "stdout",
     "output_type": "stream",
     "text": [
      "Setup complete.\n"
     ]
    },
    {
     "data": {
      "text/html": [
       "<div>\n",
       "<style scoped>\n",
       "    .dataframe tbody tr th:only-of-type {\n",
       "        vertical-align: middle;\n",
       "    }\n",
       "\n",
       "    .dataframe tbody tr th {\n",
       "        vertical-align: top;\n",
       "    }\n",
       "\n",
       "    .dataframe thead th {\n",
       "        text-align: right;\n",
       "    }\n",
       "</style>\n",
       "<table border=\"1\" class=\"dataframe\">\n",
       "  <thead>\n",
       "    <tr style=\"text-align: right;\">\n",
       "      <th></th>\n",
       "      <th>country</th>\n",
       "      <th>description</th>\n",
       "      <th>designation</th>\n",
       "      <th>points</th>\n",
       "      <th>price</th>\n",
       "      <th>province</th>\n",
       "      <th>region_1</th>\n",
       "      <th>region_2</th>\n",
       "      <th>taster_name</th>\n",
       "      <th>taster_twitter_handle</th>\n",
       "      <th>title</th>\n",
       "      <th>variety</th>\n",
       "      <th>winery</th>\n",
       "    </tr>\n",
       "  </thead>\n",
       "  <tbody>\n",
       "    <tr>\n",
       "      <th>0</th>\n",
       "      <td>Italy</td>\n",
       "      <td>Aromas include tropical fruit, broom, brimston...</td>\n",
       "      <td>Vulkà Bianco</td>\n",
       "      <td>87</td>\n",
       "      <td>NaN</td>\n",
       "      <td>Sicily &amp; Sardinia</td>\n",
       "      <td>Etna</td>\n",
       "      <td>NaN</td>\n",
       "      <td>Kerin O’Keefe</td>\n",
       "      <td>@kerinokeefe</td>\n",
       "      <td>Nicosia 2013 Vulkà Bianco  (Etna)</td>\n",
       "      <td>White Blend</td>\n",
       "      <td>Nicosia</td>\n",
       "    </tr>\n",
       "    <tr>\n",
       "      <th>1</th>\n",
       "      <td>Portugal</td>\n",
       "      <td>This is ripe and fruity, a wine that is smooth...</td>\n",
       "      <td>Avidagos</td>\n",
       "      <td>87</td>\n",
       "      <td>15.0</td>\n",
       "      <td>Douro</td>\n",
       "      <td>NaN</td>\n",
       "      <td>NaN</td>\n",
       "      <td>Roger Voss</td>\n",
       "      <td>@vossroger</td>\n",
       "      <td>Quinta dos Avidagos 2011 Avidagos Red (Douro)</td>\n",
       "      <td>Portuguese Red</td>\n",
       "      <td>Quinta dos Avidagos</td>\n",
       "    </tr>\n",
       "    <tr>\n",
       "      <th>2</th>\n",
       "      <td>US</td>\n",
       "      <td>Tart and snappy, the flavors of lime flesh and...</td>\n",
       "      <td>NaN</td>\n",
       "      <td>87</td>\n",
       "      <td>14.0</td>\n",
       "      <td>Oregon</td>\n",
       "      <td>Willamette Valley</td>\n",
       "      <td>Willamette Valley</td>\n",
       "      <td>Paul Gregutt</td>\n",
       "      <td>@paulgwine</td>\n",
       "      <td>Rainstorm 2013 Pinot Gris (Willamette Valley)</td>\n",
       "      <td>Pinot Gris</td>\n",
       "      <td>Rainstorm</td>\n",
       "    </tr>\n",
       "    <tr>\n",
       "      <th>3</th>\n",
       "      <td>US</td>\n",
       "      <td>Pineapple rind, lemon pith and orange blossom ...</td>\n",
       "      <td>Reserve Late Harvest</td>\n",
       "      <td>87</td>\n",
       "      <td>13.0</td>\n",
       "      <td>Michigan</td>\n",
       "      <td>Lake Michigan Shore</td>\n",
       "      <td>NaN</td>\n",
       "      <td>Alexander Peartree</td>\n",
       "      <td>NaN</td>\n",
       "      <td>St. Julian 2013 Reserve Late Harvest Riesling ...</td>\n",
       "      <td>Riesling</td>\n",
       "      <td>St. Julian</td>\n",
       "    </tr>\n",
       "    <tr>\n",
       "      <th>4</th>\n",
       "      <td>US</td>\n",
       "      <td>Much like the regular bottling from 2012, this...</td>\n",
       "      <td>Vintner's Reserve Wild Child Block</td>\n",
       "      <td>87</td>\n",
       "      <td>65.0</td>\n",
       "      <td>Oregon</td>\n",
       "      <td>Willamette Valley</td>\n",
       "      <td>Willamette Valley</td>\n",
       "      <td>Paul Gregutt</td>\n",
       "      <td>@paulgwine</td>\n",
       "      <td>Sweet Cheeks 2012 Vintner's Reserve Wild Child...</td>\n",
       "      <td>Pinot Noir</td>\n",
       "      <td>Sweet Cheeks</td>\n",
       "    </tr>\n",
       "  </tbody>\n",
       "</table>\n",
       "</div>"
      ],
      "text/plain": [
       "    country                                        description  \\\n",
       "0     Italy  Aromas include tropical fruit, broom, brimston...   \n",
       "1  Portugal  This is ripe and fruity, a wine that is smooth...   \n",
       "2        US  Tart and snappy, the flavors of lime flesh and...   \n",
       "3        US  Pineapple rind, lemon pith and orange blossom ...   \n",
       "4        US  Much like the regular bottling from 2012, this...   \n",
       "\n",
       "                          designation  points  price           province  \\\n",
       "0                        Vulkà Bianco      87    NaN  Sicily & Sardinia   \n",
       "1                            Avidagos      87   15.0              Douro   \n",
       "2                                 NaN      87   14.0             Oregon   \n",
       "3                Reserve Late Harvest      87   13.0           Michigan   \n",
       "4  Vintner's Reserve Wild Child Block      87   65.0             Oregon   \n",
       "\n",
       "              region_1           region_2         taster_name  \\\n",
       "0                 Etna                NaN       Kerin O’Keefe   \n",
       "1                  NaN                NaN          Roger Voss   \n",
       "2    Willamette Valley  Willamette Valley        Paul Gregutt   \n",
       "3  Lake Michigan Shore                NaN  Alexander Peartree   \n",
       "4    Willamette Valley  Willamette Valley        Paul Gregutt   \n",
       "\n",
       "  taster_twitter_handle                                              title  \\\n",
       "0          @kerinokeefe                  Nicosia 2013 Vulkà Bianco  (Etna)   \n",
       "1            @vossroger      Quinta dos Avidagos 2011 Avidagos Red (Douro)   \n",
       "2           @paulgwine       Rainstorm 2013 Pinot Gris (Willamette Valley)   \n",
       "3                   NaN  St. Julian 2013 Reserve Late Harvest Riesling ...   \n",
       "4           @paulgwine   Sweet Cheeks 2012 Vintner's Reserve Wild Child...   \n",
       "\n",
       "          variety               winery  \n",
       "0     White Blend              Nicosia  \n",
       "1  Portuguese Red  Quinta dos Avidagos  \n",
       "2      Pinot Gris            Rainstorm  \n",
       "3        Riesling           St. Julian  \n",
       "4      Pinot Noir         Sweet Cheeks  "
      ]
     },
     "execution_count": 1,
     "metadata": {},
     "output_type": "execute_result"
    }
   ],
   "source": [
    "import pandas as pd\n",
    "pd.set_option(\"display.max_rows\", 5)\n",
    "reviews = pd.read_csv(\"../input/wine-reviews/winemag-data-130k-v2.csv\", index_col=0)\n",
    "\n",
    "from learntools.core import binder; binder.bind(globals())\n",
    "from learntools.pandas.summary_functions_and_maps import *\n",
    "print(\"Setup complete.\")\n",
    "\n",
    "reviews.head()"
   ]
  },
  {
   "cell_type": "markdown",
   "id": "administrative-trauma",
   "metadata": {
    "papermill": {
     "duration": 0.019687,
     "end_time": "2021-05-13T16:51:35.639516",
     "exception": false,
     "start_time": "2021-05-13T16:51:35.619829",
     "status": "completed"
    },
    "tags": []
   },
   "source": [
    "# Exercises"
   ]
  },
  {
   "cell_type": "markdown",
   "id": "practical-setup",
   "metadata": {
    "papermill": {
     "duration": 0.017381,
     "end_time": "2021-05-13T16:51:35.675345",
     "exception": false,
     "start_time": "2021-05-13T16:51:35.657964",
     "status": "completed"
    },
    "tags": []
   },
   "source": [
    "## 1.\n",
    "\n",
    "What is the median of the `points` column in the `reviews` DataFrame?"
   ]
  },
  {
   "cell_type": "code",
   "execution_count": 2,
   "id": "quality-permit",
   "metadata": {
    "execution": {
     "iopub.execute_input": "2021-05-13T16:51:35.715944Z",
     "iopub.status.busy": "2021-05-13T16:51:35.715262Z",
     "iopub.status.idle": "2021-05-13T16:51:35.724865Z",
     "shell.execute_reply": "2021-05-13T16:51:35.724289Z"
    },
    "papermill": {
     "duration": 0.030546,
     "end_time": "2021-05-13T16:51:35.725002",
     "exception": false,
     "start_time": "2021-05-13T16:51:35.694456",
     "status": "completed"
    },
    "tags": []
   },
   "outputs": [
    {
     "data": {
      "application/javascript": [
       "parent.postMessage({\"jupyterEvent\": \"custom.exercise_interaction\", \"data\": {\"outcomeType\": 1, \"valueTowardsCompletion\": 0.14285714285714285, \"interactionType\": 1, \"questionType\": 1, \"questionId\": \"1_MedianPoints\", \"learnToolsVersion\": \"0.3.4\", \"failureMessage\": \"\", \"exceptionClass\": \"\", \"trace\": \"\"}}, \"*\")"
      ],
      "text/plain": [
       "<IPython.core.display.Javascript object>"
      ]
     },
     "metadata": {},
     "output_type": "display_data"
    },
    {
     "data": {
      "text/markdown": [
       "<span style=\"color:#33cc33\">Correct</span>"
      ],
      "text/plain": [
       "Correct"
      ]
     },
     "metadata": {},
     "output_type": "display_data"
    }
   ],
   "source": [
    "median_points = reviews.points.median()\n",
    "\n",
    "\n",
    "# Check your answer\n",
    "q1.check()"
   ]
  },
  {
   "cell_type": "code",
   "execution_count": 3,
   "id": "simplified-arrival",
   "metadata": {
    "execution": {
     "iopub.execute_input": "2021-05-13T16:51:35.767308Z",
     "iopub.status.busy": "2021-05-13T16:51:35.766651Z",
     "iopub.status.idle": "2021-05-13T16:51:35.769859Z",
     "shell.execute_reply": "2021-05-13T16:51:35.770298Z"
    },
    "papermill": {
     "duration": 0.026013,
     "end_time": "2021-05-13T16:51:35.770464",
     "exception": false,
     "start_time": "2021-05-13T16:51:35.744451",
     "status": "completed"
    },
    "tags": []
   },
   "outputs": [],
   "source": [
    "#q1.hint()\n",
    "#q1.solution()"
   ]
  },
  {
   "cell_type": "markdown",
   "id": "dynamic-berlin",
   "metadata": {
    "papermill": {
     "duration": 0.018925,
     "end_time": "2021-05-13T16:51:35.807914",
     "exception": false,
     "start_time": "2021-05-13T16:51:35.788989",
     "status": "completed"
    },
    "tags": []
   },
   "source": [
    "## 2. \n",
    "What countries are represented in the dataset? (Your answer should not include any duplicates.)"
   ]
  },
  {
   "cell_type": "code",
   "execution_count": 4,
   "id": "indonesian-valuable",
   "metadata": {
    "execution": {
     "iopub.execute_input": "2021-05-13T16:51:35.864119Z",
     "iopub.status.busy": "2021-05-13T16:51:35.863401Z",
     "iopub.status.idle": "2021-05-13T16:51:35.867628Z",
     "shell.execute_reply": "2021-05-13T16:51:35.868147Z"
    },
    "papermill": {
     "duration": 0.041794,
     "end_time": "2021-05-13T16:51:35.868323",
     "exception": false,
     "start_time": "2021-05-13T16:51:35.826529",
     "status": "completed"
    },
    "tags": []
   },
   "outputs": [
    {
     "data": {
      "application/javascript": [
       "parent.postMessage({\"jupyterEvent\": \"custom.exercise_interaction\", \"data\": {\"outcomeType\": 1, \"valueTowardsCompletion\": 0.14285714285714285, \"interactionType\": 1, \"questionType\": 2, \"questionId\": \"2_UniqueCountries\", \"learnToolsVersion\": \"0.3.4\", \"failureMessage\": \"\", \"exceptionClass\": \"\", \"trace\": \"\"}}, \"*\")"
      ],
      "text/plain": [
       "<IPython.core.display.Javascript object>"
      ]
     },
     "metadata": {},
     "output_type": "display_data"
    },
    {
     "data": {
      "text/markdown": [
       "<span style=\"color:#33cc33\">Correct</span>"
      ],
      "text/plain": [
       "Correct"
      ]
     },
     "metadata": {},
     "output_type": "display_data"
    }
   ],
   "source": [
    "\n",
    "\n",
    "countries = reviews.country.unique()\n",
    "\n",
    "q2.check()"
   ]
  },
  {
   "cell_type": "code",
   "execution_count": 5,
   "id": "dutch-copying",
   "metadata": {
    "execution": {
     "iopub.execute_input": "2021-05-13T16:51:35.912872Z",
     "iopub.status.busy": "2021-05-13T16:51:35.912193Z",
     "iopub.status.idle": "2021-05-13T16:51:35.915225Z",
     "shell.execute_reply": "2021-05-13T16:51:35.915713Z"
    },
    "papermill": {
     "duration": 0.027696,
     "end_time": "2021-05-13T16:51:35.915895",
     "exception": false,
     "start_time": "2021-05-13T16:51:35.888199",
     "status": "completed"
    },
    "tags": []
   },
   "outputs": [],
   "source": [
    "#q2.hint()\n",
    "#q2.solution()"
   ]
  },
  {
   "cell_type": "markdown",
   "id": "liquid-yield",
   "metadata": {
    "papermill": {
     "duration": 0.021113,
     "end_time": "2021-05-13T16:51:35.957451",
     "exception": false,
     "start_time": "2021-05-13T16:51:35.936338",
     "status": "completed"
    },
    "tags": []
   },
   "source": [
    "## 3.\n",
    "How often does each country appear in the dataset? Create a Series `reviews_per_country` mapping countries to the count of reviews of wines from that country."
   ]
  },
  {
   "cell_type": "code",
   "execution_count": 6,
   "id": "compact-seating",
   "metadata": {
    "execution": {
     "iopub.execute_input": "2021-05-13T16:51:36.007521Z",
     "iopub.status.busy": "2021-05-13T16:51:36.006816Z",
     "iopub.status.idle": "2021-05-13T16:51:36.042855Z",
     "shell.execute_reply": "2021-05-13T16:51:36.043356Z"
    },
    "papermill": {
     "duration": 0.062702,
     "end_time": "2021-05-13T16:51:36.043553",
     "exception": false,
     "start_time": "2021-05-13T16:51:35.980851",
     "status": "completed"
    },
    "tags": []
   },
   "outputs": [
    {
     "data": {
      "application/javascript": [
       "parent.postMessage({\"jupyterEvent\": \"custom.exercise_interaction\", \"data\": {\"outcomeType\": 1, \"valueTowardsCompletion\": 0.14285714285714285, \"interactionType\": 1, \"questionType\": 1, \"questionId\": \"3_ReviewsPerCountry\", \"learnToolsVersion\": \"0.3.4\", \"failureMessage\": \"\", \"exceptionClass\": \"\", \"trace\": \"\"}}, \"*\")"
      ],
      "text/plain": [
       "<IPython.core.display.Javascript object>"
      ]
     },
     "metadata": {},
     "output_type": "display_data"
    },
    {
     "data": {
      "text/markdown": [
       "<span style=\"color:#33cc33\">Correct</span>"
      ],
      "text/plain": [
       "Correct"
      ]
     },
     "metadata": {},
     "output_type": "display_data"
    }
   ],
   "source": [
    "reviews_per_country = reviews.country.value_counts()\n",
    "\n",
    "\n",
    "\n",
    "# Check your answer\n",
    "q3.check()"
   ]
  },
  {
   "cell_type": "code",
   "execution_count": 7,
   "id": "critical-difficulty",
   "metadata": {
    "execution": {
     "iopub.execute_input": "2021-05-13T16:51:36.091447Z",
     "iopub.status.busy": "2021-05-13T16:51:36.090567Z",
     "iopub.status.idle": "2021-05-13T16:51:36.092811Z",
     "shell.execute_reply": "2021-05-13T16:51:36.093297Z"
    },
    "papermill": {
     "duration": 0.027676,
     "end_time": "2021-05-13T16:51:36.093464",
     "exception": false,
     "start_time": "2021-05-13T16:51:36.065788",
     "status": "completed"
    },
    "tags": []
   },
   "outputs": [],
   "source": [
    "#q3.hint()\n",
    "#q3.solution()"
   ]
  },
  {
   "cell_type": "markdown",
   "id": "metropolitan-chest",
   "metadata": {
    "papermill": {
     "duration": 0.021282,
     "end_time": "2021-05-13T16:51:36.138302",
     "exception": false,
     "start_time": "2021-05-13T16:51:36.117020",
     "status": "completed"
    },
    "tags": []
   },
   "source": [
    "## 4.\n",
    "Create variable `centered_price` containing a version of the `price` column with the mean price subtracted.\n",
    "\n",
    "(Note: this 'centering' transformation is a common preprocessing step before applying various machine learning algorithms.) "
   ]
  },
  {
   "cell_type": "code",
   "execution_count": 8,
   "id": "automotive-settle",
   "metadata": {
    "execution": {
     "iopub.execute_input": "2021-05-13T16:51:36.184144Z",
     "iopub.status.busy": "2021-05-13T16:51:36.183504Z",
     "iopub.status.idle": "2021-05-13T16:51:36.191244Z",
     "shell.execute_reply": "2021-05-13T16:51:36.191769Z"
    },
    "papermill": {
     "duration": 0.032366,
     "end_time": "2021-05-13T16:51:36.191934",
     "exception": false,
     "start_time": "2021-05-13T16:51:36.159568",
     "status": "completed"
    },
    "tags": []
   },
   "outputs": [
    {
     "data": {
      "application/javascript": [
       "parent.postMessage({\"jupyterEvent\": \"custom.exercise_interaction\", \"data\": {\"outcomeType\": 1, \"valueTowardsCompletion\": 0.14285714285714285, \"interactionType\": 1, \"questionType\": 1, \"questionId\": \"4_CenteredPrice\", \"learnToolsVersion\": \"0.3.4\", \"failureMessage\": \"\", \"exceptionClass\": \"\", \"trace\": \"\"}}, \"*\")"
      ],
      "text/plain": [
       "<IPython.core.display.Javascript object>"
      ]
     },
     "metadata": {},
     "output_type": "display_data"
    },
    {
     "data": {
      "text/markdown": [
       "<span style=\"color:#33cc33\">Correct</span>"
      ],
      "text/plain": [
       "Correct"
      ]
     },
     "metadata": {},
     "output_type": "display_data"
    }
   ],
   "source": [
    "centered_price = reviews.price - reviews.price.mean()\n",
    "\n",
    "\n",
    "# Check your answer\n",
    "q4.check()"
   ]
  },
  {
   "cell_type": "code",
   "execution_count": 9,
   "id": "monetary-croatia",
   "metadata": {
    "execution": {
     "iopub.execute_input": "2021-05-13T16:51:36.240566Z",
     "iopub.status.busy": "2021-05-13T16:51:36.239941Z",
     "iopub.status.idle": "2021-05-13T16:51:36.242116Z",
     "shell.execute_reply": "2021-05-13T16:51:36.242739Z"
    },
    "papermill": {
     "duration": 0.028869,
     "end_time": "2021-05-13T16:51:36.242923",
     "exception": false,
     "start_time": "2021-05-13T16:51:36.214054",
     "status": "completed"
    },
    "tags": []
   },
   "outputs": [],
   "source": [
    "#q4.hint()\n",
    "#q4.solution()"
   ]
  },
  {
   "cell_type": "markdown",
   "id": "ideal-adaptation",
   "metadata": {
    "papermill": {
     "duration": 0.022966,
     "end_time": "2021-05-13T16:51:36.288254",
     "exception": false,
     "start_time": "2021-05-13T16:51:36.265288",
     "status": "completed"
    },
    "tags": []
   },
   "source": [
    "## 5.\n",
    "I'm an economical wine buyer. Which wine is the \"best bargain\"? Create a variable `bargain_wine` with the title of the wine with the highest points-to-price ratio in the dataset."
   ]
  },
  {
   "cell_type": "code",
   "execution_count": 10,
   "id": "systematic-milan",
   "metadata": {
    "execution": {
     "iopub.execute_input": "2021-05-13T16:51:36.337173Z",
     "iopub.status.busy": "2021-05-13T16:51:36.336348Z",
     "iopub.status.idle": "2021-05-13T16:51:36.349805Z",
     "shell.execute_reply": "2021-05-13T16:51:36.349166Z"
    },
    "papermill": {
     "duration": 0.039501,
     "end_time": "2021-05-13T16:51:36.349942",
     "exception": false,
     "start_time": "2021-05-13T16:51:36.310441",
     "status": "completed"
    },
    "tags": []
   },
   "outputs": [
    {
     "data": {
      "application/javascript": [
       "parent.postMessage({\"jupyterEvent\": \"custom.exercise_interaction\", \"data\": {\"outcomeType\": 1, \"valueTowardsCompletion\": 0.14285714285714285, \"interactionType\": 1, \"questionType\": 2, \"questionId\": \"5_BargainWine\", \"learnToolsVersion\": \"0.3.4\", \"failureMessage\": \"\", \"exceptionClass\": \"\", \"trace\": \"\"}}, \"*\")"
      ],
      "text/plain": [
       "<IPython.core.display.Javascript object>"
      ]
     },
     "metadata": {},
     "output_type": "display_data"
    },
    {
     "data": {
      "text/markdown": [
       "<span style=\"color:#33cc33\">Correct</span>"
      ],
      "text/plain": [
       "Correct"
      ]
     },
     "metadata": {},
     "output_type": "display_data"
    }
   ],
   "source": [
    "bargain_idx = (reviews.points / reviews.price).idxmax()\n",
    "bargain_wine = reviews.loc[bargain_idx, 'title']\n",
    "# Check your answer\n",
    "q5.check()"
   ]
  },
  {
   "cell_type": "code",
   "execution_count": 11,
   "id": "imperial-section",
   "metadata": {
    "execution": {
     "iopub.execute_input": "2021-05-13T16:51:36.400708Z",
     "iopub.status.busy": "2021-05-13T16:51:36.399580Z",
     "iopub.status.idle": "2021-05-13T16:51:36.403183Z",
     "shell.execute_reply": "2021-05-13T16:51:36.404089Z"
    },
    "papermill": {
     "duration": 0.030709,
     "end_time": "2021-05-13T16:51:36.404349",
     "exception": false,
     "start_time": "2021-05-13T16:51:36.373640",
     "status": "completed"
    },
    "tags": []
   },
   "outputs": [],
   "source": [
    "#q5.hint()\n",
    "#q5.solution()"
   ]
  },
  {
   "cell_type": "markdown",
   "id": "pleased-luther",
   "metadata": {
    "papermill": {
     "duration": 0.025626,
     "end_time": "2021-05-13T16:51:36.454038",
     "exception": false,
     "start_time": "2021-05-13T16:51:36.428412",
     "status": "completed"
    },
    "tags": []
   },
   "source": [
    "## 6.\n",
    "There are only so many words you can use when describing a bottle of wine. Is a wine more likely to be \"tropical\" or \"fruity\"? Create a Series `descriptor_counts` counting how many times each of these two words appears in the `description` column in the dataset."
   ]
  },
  {
   "cell_type": "code",
   "execution_count": 12,
   "id": "artificial-washington",
   "metadata": {
    "execution": {
     "iopub.execute_input": "2021-05-13T16:51:36.505225Z",
     "iopub.status.busy": "2021-05-13T16:51:36.504524Z",
     "iopub.status.idle": "2021-05-13T16:51:36.646062Z",
     "shell.execute_reply": "2021-05-13T16:51:36.646512Z"
    },
    "papermill": {
     "duration": 0.16935,
     "end_time": "2021-05-13T16:51:36.646712",
     "exception": false,
     "start_time": "2021-05-13T16:51:36.477362",
     "status": "completed"
    },
    "tags": []
   },
   "outputs": [
    {
     "data": {
      "application/javascript": [
       "parent.postMessage({\"jupyterEvent\": \"custom.exercise_interaction\", \"data\": {\"outcomeType\": 1, \"valueTowardsCompletion\": 0.14285714285714285, \"interactionType\": 1, \"questionType\": 1, \"questionId\": \"6_DescriptorCounts\", \"learnToolsVersion\": \"0.3.4\", \"failureMessage\": \"\", \"exceptionClass\": \"\", \"trace\": \"\"}}, \"*\")"
      ],
      "text/plain": [
       "<IPython.core.display.Javascript object>"
      ]
     },
     "metadata": {},
     "output_type": "display_data"
    },
    {
     "data": {
      "text/markdown": [
       "<span style=\"color:#33cc33\">Correct</span>"
      ],
      "text/plain": [
       "Correct"
      ]
     },
     "metadata": {},
     "output_type": "display_data"
    }
   ],
   "source": [
    "n_trop = reviews.description.map(lambda desc: \"tropical\" in desc).sum()\n",
    "n_fruity = reviews.description.map(lambda desc: \"fruity\" in desc).sum()\n",
    "descriptor_counts = pd.Series([n_trop, n_fruity], index=['tropical', 'fruity'])\n",
    "\n",
    "# Check your answer\n",
    "q6.check()"
   ]
  },
  {
   "cell_type": "code",
   "execution_count": 13,
   "id": "minimal-retention",
   "metadata": {
    "execution": {
     "iopub.execute_input": "2021-05-13T16:51:36.698787Z",
     "iopub.status.busy": "2021-05-13T16:51:36.698148Z",
     "iopub.status.idle": "2021-05-13T16:51:36.701369Z",
     "shell.execute_reply": "2021-05-13T16:51:36.701828Z"
    },
    "papermill": {
     "duration": 0.030807,
     "end_time": "2021-05-13T16:51:36.702000",
     "exception": false,
     "start_time": "2021-05-13T16:51:36.671193",
     "status": "completed"
    },
    "tags": []
   },
   "outputs": [],
   "source": [
    "#q6.hint()\n",
    "#q6.solution()"
   ]
  },
  {
   "cell_type": "markdown",
   "id": "personalized-liberal",
   "metadata": {
    "papermill": {
     "duration": 0.025674,
     "end_time": "2021-05-13T16:51:36.752859",
     "exception": false,
     "start_time": "2021-05-13T16:51:36.727185",
     "status": "completed"
    },
    "tags": []
   },
   "source": [
    "## 7.\n",
    "We'd like to host these wine reviews on our website, but a rating system ranging from 80 to 100 points is too hard to understand - we'd like to translate them into simple star ratings. A score of 95 or higher counts as 3 stars, a score of at least 85 but less than 95 is 2 stars. Any other score is 1 star.\n",
    "\n",
    "Also, the Canadian Vintners Association bought a lot of ads on the site, so any wines from Canada should automatically get 3 stars, regardless of points.\n",
    "\n",
    "Create a series `star_ratings` with the number of stars corresponding to each review in the dataset."
   ]
  },
  {
   "cell_type": "code",
   "execution_count": 14,
   "id": "lovely-airport",
   "metadata": {
    "execution": {
     "iopub.execute_input": "2021-05-13T16:51:36.807121Z",
     "iopub.status.busy": "2021-05-13T16:51:36.806451Z",
     "iopub.status.idle": "2021-05-13T16:51:41.588364Z",
     "shell.execute_reply": "2021-05-13T16:51:41.587835Z"
    },
    "papermill": {
     "duration": 4.810124,
     "end_time": "2021-05-13T16:51:41.588515",
     "exception": false,
     "start_time": "2021-05-13T16:51:36.778391",
     "status": "completed"
    },
    "tags": []
   },
   "outputs": [
    {
     "data": {
      "application/javascript": [
       "parent.postMessage({\"jupyterEvent\": \"custom.exercise_interaction\", \"data\": {\"outcomeType\": 1, \"valueTowardsCompletion\": 0.14285714285714285, \"interactionType\": 1, \"questionType\": 1, \"questionId\": \"7_StarRatings\", \"learnToolsVersion\": \"0.3.4\", \"failureMessage\": \"\", \"exceptionClass\": \"\", \"trace\": \"\"}}, \"*\")"
      ],
      "text/plain": [
       "<IPython.core.display.Javascript object>"
      ]
     },
     "metadata": {},
     "output_type": "display_data"
    },
    {
     "data": {
      "text/markdown": [
       "<span style=\"color:#33cc33\">Correct</span>"
      ],
      "text/plain": [
       "Correct"
      ]
     },
     "metadata": {},
     "output_type": "display_data"
    }
   ],
   "source": [
    "def stars(row):\n",
    "    if row.country == 'Canada':\n",
    "        return 3\n",
    "    elif row.points >= 95:\n",
    "        return 3\n",
    "    elif row.points >= 85:\n",
    "        return 2\n",
    "    else:\n",
    "        return 1\n",
    "\n",
    "star_ratings = reviews.apply(stars, axis='columns')\n",
    "\n",
    "# Check your answer\n",
    "q7.check()"
   ]
  },
  {
   "cell_type": "code",
   "execution_count": 15,
   "id": "educated-interim",
   "metadata": {
    "execution": {
     "iopub.execute_input": "2021-05-13T16:51:41.647124Z",
     "iopub.status.busy": "2021-05-13T16:51:41.646390Z",
     "iopub.status.idle": "2021-05-13T16:51:41.648548Z",
     "shell.execute_reply": "2021-05-13T16:51:41.649008Z"
    },
    "papermill": {
     "duration": 0.033352,
     "end_time": "2021-05-13T16:51:41.649182",
     "exception": false,
     "start_time": "2021-05-13T16:51:41.615830",
     "status": "completed"
    },
    "tags": []
   },
   "outputs": [],
   "source": [
    "#q7.hint()\n",
    "#q7.solution()"
   ]
  },
  {
   "cell_type": "markdown",
   "id": "limited-skating",
   "metadata": {
    "papermill": {
     "duration": 0.027496,
     "end_time": "2021-05-13T16:51:41.703200",
     "exception": false,
     "start_time": "2021-05-13T16:51:41.675704",
     "status": "completed"
    },
    "tags": []
   },
   "source": [
    "# Keep going\n",
    "Continue to **[grouping and sorting](https://www.kaggle.com/residentmario/grouping-and-sorting)**."
   ]
  },
  {
   "cell_type": "markdown",
   "id": "sweet-breathing",
   "metadata": {
    "papermill": {
     "duration": 0.028274,
     "end_time": "2021-05-13T16:51:41.757454",
     "exception": false,
     "start_time": "2021-05-13T16:51:41.729180",
     "status": "completed"
    },
    "tags": []
   },
   "source": [
    "---\n",
    "\n",
    "\n",
    "\n",
    "\n",
    "*Have questions or comments? Visit the [Learn Discussion forum](https://www.kaggle.com/learn-forum/161299) to chat with other Learners.*"
   ]
  }
 ],
 "metadata": {
  "kernelspec": {
   "display_name": "Python 3",
   "language": "python",
   "name": "python3"
  },
  "language_info": {
   "codemirror_mode": {
    "name": "ipython",
    "version": 3
   },
   "file_extension": ".py",
   "mimetype": "text/x-python",
   "name": "python",
   "nbconvert_exporter": "python",
   "pygments_lexer": "ipython3",
   "version": "3.7.9"
  },
  "papermill": {
   "default_parameters": {},
   "duration": 21.365978,
   "end_time": "2021-05-13T16:51:42.400611",
   "environment_variables": {},
   "exception": null,
   "input_path": "__notebook__.ipynb",
   "output_path": "__notebook__.ipynb",
   "parameters": {},
   "start_time": "2021-05-13T16:51:21.034633",
   "version": "2.3.2"
  }
 },
 "nbformat": 4,
 "nbformat_minor": 5
}
