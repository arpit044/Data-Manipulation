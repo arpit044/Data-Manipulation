{
 "cells": [
  {
   "cell_type": "markdown",
   "id": "scheduled-emergency",
   "metadata": {
    "papermill": {
     "duration": 0.01325,
     "end_time": "2021-05-13T17:08:51.103238",
     "exception": false,
     "start_time": "2021-05-13T17:08:51.089988",
     "status": "completed"
    },
    "tags": []
   },
   "source": [
    "**This notebook is an exercise in the [Pandas](https://www.kaggle.com/learn/pandas) course.  You can reference the tutorial at [this link](https://www.kaggle.com/residentmario/data-types-and-missing-values).**\n",
    "\n",
    "---\n"
   ]
  },
  {
   "cell_type": "markdown",
   "id": "expensive-missouri",
   "metadata": {
    "papermill": {
     "duration": 0.011074,
     "end_time": "2021-05-13T17:08:51.125897",
     "exception": false,
     "start_time": "2021-05-13T17:08:51.114823",
     "status": "completed"
    },
    "tags": []
   },
   "source": [
    "# Introduction\n",
    "\n",
    "Run the following cell to load your data and some utility functions."
   ]
  },
  {
   "cell_type": "code",
   "execution_count": 1,
   "id": "certified-norway",
   "metadata": {
    "execution": {
     "iopub.execute_input": "2021-05-13T17:08:51.153156Z",
     "iopub.status.busy": "2021-05-13T17:08:51.151999Z",
     "iopub.status.idle": "2021-05-13T17:08:54.229956Z",
     "shell.execute_reply": "2021-05-13T17:08:54.230469Z"
    },
    "papermill": {
     "duration": 3.093395,
     "end_time": "2021-05-13T17:08:54.230784",
     "exception": false,
     "start_time": "2021-05-13T17:08:51.137389",
     "status": "completed"
    },
    "tags": []
   },
   "outputs": [
    {
     "name": "stdout",
     "output_type": "stream",
     "text": [
      "Setup complete.\n"
     ]
    }
   ],
   "source": [
    "import pandas as pd\n",
    "\n",
    "reviews = pd.read_csv(\"../input/wine-reviews/winemag-data-130k-v2.csv\", index_col=0)\n",
    "\n",
    "from learntools.core import binder; binder.bind(globals())\n",
    "from learntools.pandas.data_types_and_missing_data import *\n",
    "print(\"Setup complete.\")"
   ]
  },
  {
   "cell_type": "markdown",
   "id": "female-stanford",
   "metadata": {
    "papermill": {
     "duration": 0.011336,
     "end_time": "2021-05-13T17:08:54.254776",
     "exception": false,
     "start_time": "2021-05-13T17:08:54.243440",
     "status": "completed"
    },
    "tags": []
   },
   "source": [
    "# Exercises"
   ]
  },
  {
   "cell_type": "markdown",
   "id": "intense-westminster",
   "metadata": {
    "papermill": {
     "duration": 0.011673,
     "end_time": "2021-05-13T17:08:54.278239",
     "exception": false,
     "start_time": "2021-05-13T17:08:54.266566",
     "status": "completed"
    },
    "tags": []
   },
   "source": [
    "## 1. \n",
    "What is the data type of the `points` column in the dataset?"
   ]
  },
  {
   "cell_type": "code",
   "execution_count": 2,
   "id": "worth-count",
   "metadata": {
    "execution": {
     "iopub.execute_input": "2021-05-13T17:08:54.309897Z",
     "iopub.status.busy": "2021-05-13T17:08:54.306843Z",
     "iopub.status.idle": "2021-05-13T17:08:54.315514Z",
     "shell.execute_reply": "2021-05-13T17:08:54.314982Z"
    },
    "papermill": {
     "duration": 0.025482,
     "end_time": "2021-05-13T17:08:54.315660",
     "exception": false,
     "start_time": "2021-05-13T17:08:54.290178",
     "status": "completed"
    },
    "tags": []
   },
   "outputs": [
    {
     "data": {
      "application/javascript": [
       "parent.postMessage({\"jupyterEvent\": \"custom.exercise_interaction\", \"data\": {\"outcomeType\": 1, \"valueTowardsCompletion\": 0.25, \"interactionType\": 1, \"questionType\": 1, \"questionId\": \"1_PointsDtype\", \"learnToolsVersion\": \"0.3.4\", \"failureMessage\": \"\", \"exceptionClass\": \"\", \"trace\": \"\"}}, \"*\")"
      ],
      "text/plain": [
       "<IPython.core.display.Javascript object>"
      ]
     },
     "metadata": {},
     "output_type": "display_data"
    },
    {
     "data": {
      "text/markdown": [
       "<span style=\"color:#33cc33\">Correct</span>"
      ],
      "text/plain": [
       "Correct"
      ]
     },
     "metadata": {},
     "output_type": "display_data"
    }
   ],
   "source": [
    "# Your code here\n",
    "dtype = reviews.points.dtype\n",
    "\n",
    "\n",
    "# Check your answer\n",
    "q1.check()"
   ]
  },
  {
   "cell_type": "code",
   "execution_count": 3,
   "id": "crucial-sword",
   "metadata": {
    "execution": {
     "iopub.execute_input": "2021-05-13T17:08:54.345962Z",
     "iopub.status.busy": "2021-05-13T17:08:54.345263Z",
     "iopub.status.idle": "2021-05-13T17:08:54.348755Z",
     "shell.execute_reply": "2021-05-13T17:08:54.349385Z"
    },
    "papermill": {
     "duration": 0.020863,
     "end_time": "2021-05-13T17:08:54.349563",
     "exception": false,
     "start_time": "2021-05-13T17:08:54.328700",
     "status": "completed"
    },
    "tags": []
   },
   "outputs": [],
   "source": [
    "#q1.hint()\n",
    "#q1.solution()"
   ]
  },
  {
   "cell_type": "markdown",
   "id": "driven-brand",
   "metadata": {
    "papermill": {
     "duration": 0.012791,
     "end_time": "2021-05-13T17:08:54.375502",
     "exception": false,
     "start_time": "2021-05-13T17:08:54.362711",
     "status": "completed"
    },
    "tags": []
   },
   "source": [
    "## 2. \n",
    "Create a Series from entries in the `points` column, but convert the entries to strings. Hint: strings are `str` in native Python."
   ]
  },
  {
   "cell_type": "code",
   "execution_count": 4,
   "id": "generous-profit",
   "metadata": {
    "execution": {
     "iopub.execute_input": "2021-05-13T17:08:54.406040Z",
     "iopub.status.busy": "2021-05-13T17:08:54.405394Z",
     "iopub.status.idle": "2021-05-13T17:08:54.569859Z",
     "shell.execute_reply": "2021-05-13T17:08:54.570380Z"
    },
    "papermill": {
     "duration": 0.182141,
     "end_time": "2021-05-13T17:08:54.570555",
     "exception": false,
     "start_time": "2021-05-13T17:08:54.388414",
     "status": "completed"
    },
    "tags": []
   },
   "outputs": [
    {
     "data": {
      "application/javascript": [
       "parent.postMessage({\"jupyterEvent\": \"custom.exercise_interaction\", \"data\": {\"outcomeType\": 1, \"valueTowardsCompletion\": 0.25, \"interactionType\": 1, \"questionType\": 1, \"questionId\": \"2_StrPoints\", \"learnToolsVersion\": \"0.3.4\", \"failureMessage\": \"\", \"exceptionClass\": \"\", \"trace\": \"\"}}, \"*\")"
      ],
      "text/plain": [
       "<IPython.core.display.Javascript object>"
      ]
     },
     "metadata": {},
     "output_type": "display_data"
    },
    {
     "data": {
      "text/markdown": [
       "<span style=\"color:#33cc33\">Correct</span>"
      ],
      "text/plain": [
       "Correct"
      ]
     },
     "metadata": {},
     "output_type": "display_data"
    }
   ],
   "source": [
    "point_strings = reviews.points.astype(str)\n",
    "\n",
    "\n",
    "# Check your answer\n",
    "q2.check()"
   ]
  },
  {
   "cell_type": "code",
   "execution_count": 5,
   "id": "regulation-publicity",
   "metadata": {
    "execution": {
     "iopub.execute_input": "2021-05-13T17:08:54.602154Z",
     "iopub.status.busy": "2021-05-13T17:08:54.601544Z",
     "iopub.status.idle": "2021-05-13T17:08:54.605721Z",
     "shell.execute_reply": "2021-05-13T17:08:54.605073Z"
    },
    "papermill": {
     "duration": 0.021167,
     "end_time": "2021-05-13T17:08:54.605873",
     "exception": false,
     "start_time": "2021-05-13T17:08:54.584706",
     "status": "completed"
    },
    "tags": []
   },
   "outputs": [],
   "source": [
    "#q2.hint()\n",
    "#q2.solution()"
   ]
  },
  {
   "cell_type": "markdown",
   "id": "scenic-taylor",
   "metadata": {
    "papermill": {
     "duration": 0.013785,
     "end_time": "2021-05-13T17:08:54.634165",
     "exception": false,
     "start_time": "2021-05-13T17:08:54.620380",
     "status": "completed"
    },
    "tags": []
   },
   "source": [
    "## 3.\n",
    "Sometimes the price column is null. How many reviews in the dataset are missing a price?"
   ]
  },
  {
   "cell_type": "code",
   "execution_count": 6,
   "id": "cleared-miracle",
   "metadata": {
    "execution": {
     "iopub.execute_input": "2021-05-13T17:08:54.669625Z",
     "iopub.status.busy": "2021-05-13T17:08:54.668629Z",
     "iopub.status.idle": "2021-05-13T17:08:54.679199Z",
     "shell.execute_reply": "2021-05-13T17:08:54.679828Z"
    },
    "papermill": {
     "duration": 0.031594,
     "end_time": "2021-05-13T17:08:54.680021",
     "exception": false,
     "start_time": "2021-05-13T17:08:54.648427",
     "status": "completed"
    },
    "tags": []
   },
   "outputs": [
    {
     "data": {
      "application/javascript": [
       "parent.postMessage({\"jupyterEvent\": \"custom.exercise_interaction\", \"data\": {\"outcomeType\": 1, \"valueTowardsCompletion\": 0.25, \"interactionType\": 1, \"questionType\": 1, \"questionId\": \"3_CountMissingPrices\", \"learnToolsVersion\": \"0.3.4\", \"failureMessage\": \"\", \"exceptionClass\": \"\", \"trace\": \"\"}}, \"*\")"
      ],
      "text/plain": [
       "<IPython.core.display.Javascript object>"
      ]
     },
     "metadata": {},
     "output_type": "display_data"
    },
    {
     "data": {
      "text/markdown": [
       "<span style=\"color:#33cc33\">Correct</span>"
      ],
      "text/plain": [
       "Correct"
      ]
     },
     "metadata": {},
     "output_type": "display_data"
    }
   ],
   "source": [
    "missing_price_reviews = reviews[reviews.price.isnull()]\n",
    "n_missing_prices = len(missing_price_reviews)\n",
    "\n",
    "# Check your answer\n",
    "q3.check()"
   ]
  },
  {
   "cell_type": "code",
   "execution_count": 7,
   "id": "pleasant-platform",
   "metadata": {
    "execution": {
     "iopub.execute_input": "2021-05-13T17:08:54.714913Z",
     "iopub.status.busy": "2021-05-13T17:08:54.714148Z",
     "iopub.status.idle": "2021-05-13T17:08:54.719299Z",
     "shell.execute_reply": "2021-05-13T17:08:54.718666Z"
    },
    "papermill": {
     "duration": 0.023821,
     "end_time": "2021-05-13T17:08:54.719471",
     "exception": false,
     "start_time": "2021-05-13T17:08:54.695650",
     "status": "completed"
    },
    "tags": []
   },
   "outputs": [],
   "source": [
    "#q3.hint()\n",
    "#q3.solution()"
   ]
  },
  {
   "cell_type": "markdown",
   "id": "surprising-liberia",
   "metadata": {
    "papermill": {
     "duration": 0.015397,
     "end_time": "2021-05-13T17:08:54.750737",
     "exception": false,
     "start_time": "2021-05-13T17:08:54.735340",
     "status": "completed"
    },
    "tags": []
   },
   "source": [
    "## 4.\n",
    "What are the most common wine-producing regions? Create a Series counting the number of times each value occurs in the `region_1` field. This field is often missing data, so replace missing values with `Unknown`. Sort in descending order.  Your output should look something like this:\n",
    "\n",
    "```\n",
    "Unknown                    21247\n",
    "Napa Valley                 4480\n",
    "                           ...  \n",
    "Bardolino Superiore            1\n",
    "Primitivo del Tarantino        1\n",
    "Name: region_1, Length: 1230, dtype: int64\n",
    "```"
   ]
  },
  {
   "cell_type": "code",
   "execution_count": 8,
   "id": "parliamentary-negotiation",
   "metadata": {
    "execution": {
     "iopub.execute_input": "2021-05-13T17:08:54.801632Z",
     "iopub.status.busy": "2021-05-13T17:08:54.800863Z",
     "iopub.status.idle": "2021-05-13T17:08:54.894595Z",
     "shell.execute_reply": "2021-05-13T17:08:54.894012Z"
    },
    "papermill": {
     "duration": 0.128145,
     "end_time": "2021-05-13T17:08:54.894737",
     "exception": false,
     "start_time": "2021-05-13T17:08:54.766592",
     "status": "completed"
    },
    "tags": []
   },
   "outputs": [
    {
     "data": {
      "application/javascript": [
       "parent.postMessage({\"jupyterEvent\": \"custom.exercise_interaction\", \"data\": {\"outcomeType\": 1, \"valueTowardsCompletion\": 0.25, \"interactionType\": 1, \"questionType\": 2, \"questionId\": \"4_ReviewsPerRegion\", \"learnToolsVersion\": \"0.3.4\", \"failureMessage\": \"\", \"exceptionClass\": \"\", \"trace\": \"\"}}, \"*\")"
      ],
      "text/plain": [
       "<IPython.core.display.Javascript object>"
      ]
     },
     "metadata": {},
     "output_type": "display_data"
    },
    {
     "data": {
      "text/markdown": [
       "<span style=\"color:#33cc33\">Correct</span>"
      ],
      "text/plain": [
       "Correct"
      ]
     },
     "metadata": {},
     "output_type": "display_data"
    }
   ],
   "source": [
    "reviews_per_region = reviews.region_1.fillna('Unknown').value_counts().sort_values(ascending=False)\n",
    "\n",
    "\n",
    "# Check your answer\n",
    "q4.check()"
   ]
  },
  {
   "cell_type": "code",
   "execution_count": 9,
   "id": "engaging-things",
   "metadata": {
    "execution": {
     "iopub.execute_input": "2021-05-13T17:08:54.932108Z",
     "iopub.status.busy": "2021-05-13T17:08:54.931493Z",
     "iopub.status.idle": "2021-05-13T17:08:54.933877Z",
     "shell.execute_reply": "2021-05-13T17:08:54.934480Z"
    },
    "papermill": {
     "duration": 0.023408,
     "end_time": "2021-05-13T17:08:54.934649",
     "exception": false,
     "start_time": "2021-05-13T17:08:54.911241",
     "status": "completed"
    },
    "tags": []
   },
   "outputs": [],
   "source": [
    "#q4.hint()\n",
    "#q4.solution()"
   ]
  },
  {
   "cell_type": "markdown",
   "id": "subtle-clone",
   "metadata": {
    "papermill": {
     "duration": 0.018045,
     "end_time": "2021-05-13T17:08:54.969704",
     "exception": false,
     "start_time": "2021-05-13T17:08:54.951659",
     "status": "completed"
    },
    "tags": []
   },
   "source": [
    "# Keep going\n",
    "\n",
    "Move on to **[renaming and combining](https://www.kaggle.com/residentmario/renaming-and-combining)**."
   ]
  },
  {
   "cell_type": "markdown",
   "id": "derived-vaccine",
   "metadata": {
    "papermill": {
     "duration": 0.016133,
     "end_time": "2021-05-13T17:08:55.002523",
     "exception": false,
     "start_time": "2021-05-13T17:08:54.986390",
     "status": "completed"
    },
    "tags": []
   },
   "source": [
    "---\n",
    "\n",
    "\n",
    "\n",
    "\n",
    "*Have questions or comments? Visit the [Learn Discussion forum](https://www.kaggle.com/learn-forum/161299) to chat with other Learners.*"
   ]
  }
 ],
 "metadata": {
  "kernelspec": {
   "display_name": "Python 3",
   "language": "python",
   "name": "python3"
  },
  "language_info": {
   "codemirror_mode": {
    "name": "ipython",
    "version": 3
   },
   "file_extension": ".py",
   "mimetype": "text/x-python",
   "name": "python",
   "nbconvert_exporter": "python",
   "pygments_lexer": "ipython3",
   "version": "3.7.9"
  },
  "papermill": {
   "default_parameters": {},
   "duration": 10.792085,
   "end_time": "2021-05-13T17:08:55.628833",
   "environment_variables": {},
   "exception": null,
   "input_path": "__notebook__.ipynb",
   "output_path": "__notebook__.ipynb",
   "parameters": {},
   "start_time": "2021-05-13T17:08:44.836748",
   "version": "2.3.2"
  }
 },
 "nbformat": 4,
 "nbformat_minor": 5
}
