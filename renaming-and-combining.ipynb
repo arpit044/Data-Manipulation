{
 "cells": [
  {
   "cell_type": "markdown",
   "id": "sustainable-extra",
   "metadata": {
    "papermill": {
     "duration": 0.016561,
     "end_time": "2021-05-13T18:22:58.470285",
     "exception": false,
     "start_time": "2021-05-13T18:22:58.453724",
     "status": "completed"
    },
    "tags": []
   },
   "source": [
    "**This notebook is an exercise in the [Pandas](https://www.kaggle.com/learn/pandas) course.  You can reference the tutorial at [this link](https://www.kaggle.com/residentmario/renaming-and-combining).**\n",
    "\n",
    "---\n"
   ]
  },
  {
   "cell_type": "markdown",
   "id": "referenced-novelty",
   "metadata": {
    "papermill": {
     "duration": 0.014039,
     "end_time": "2021-05-13T18:22:58.498754",
     "exception": false,
     "start_time": "2021-05-13T18:22:58.484715",
     "status": "completed"
    },
    "tags": []
   },
   "source": [
    "# Introduction\n",
    "\n",
    "Run the following cell to load your data and some utility functions."
   ]
  },
  {
   "cell_type": "code",
   "execution_count": 1,
   "id": "cloudy-korea",
   "metadata": {
    "execution": {
     "iopub.execute_input": "2021-05-13T18:22:58.535174Z",
     "iopub.status.busy": "2021-05-13T18:22:58.534558Z",
     "iopub.status.idle": "2021-05-13T18:23:02.596542Z",
     "shell.execute_reply": "2021-05-13T18:23:02.595721Z"
    },
    "papermill": {
     "duration": 4.083699,
     "end_time": "2021-05-13T18:23:02.596704",
     "exception": false,
     "start_time": "2021-05-13T18:22:58.513005",
     "status": "completed"
    },
    "tags": []
   },
   "outputs": [
    {
     "name": "stdout",
     "output_type": "stream",
     "text": [
      "Setup complete.\n"
     ]
    }
   ],
   "source": [
    "import pandas as pd\n",
    "\n",
    "reviews = pd.read_csv(\"../input/wine-reviews/winemag-data-130k-v2.csv\", index_col=0)\n",
    "\n",
    "from learntools.core import binder; binder.bind(globals())\n",
    "from learntools.pandas.renaming_and_combining import *\n",
    "print(\"Setup complete.\")"
   ]
  },
  {
   "cell_type": "markdown",
   "id": "infectious-algeria",
   "metadata": {
    "papermill": {
     "duration": 0.013925,
     "end_time": "2021-05-13T18:23:02.625539",
     "exception": false,
     "start_time": "2021-05-13T18:23:02.611614",
     "status": "completed"
    },
    "tags": []
   },
   "source": [
    "# Exercises\n",
    "\n",
    "View the first several lines of your data by running the cell below:"
   ]
  },
  {
   "cell_type": "code",
   "execution_count": 2,
   "id": "athletic-fetish",
   "metadata": {
    "execution": {
     "iopub.execute_input": "2021-05-13T18:23:02.661577Z",
     "iopub.status.busy": "2021-05-13T18:23:02.660635Z",
     "iopub.status.idle": "2021-05-13T18:23:02.682653Z",
     "shell.execute_reply": "2021-05-13T18:23:02.683180Z"
    },
    "papermill": {
     "duration": 0.043504,
     "end_time": "2021-05-13T18:23:02.683344",
     "exception": false,
     "start_time": "2021-05-13T18:23:02.639840",
     "status": "completed"
    },
    "tags": []
   },
   "outputs": [
    {
     "data": {
      "text/html": [
       "<div>\n",
       "<style scoped>\n",
       "    .dataframe tbody tr th:only-of-type {\n",
       "        vertical-align: middle;\n",
       "    }\n",
       "\n",
       "    .dataframe tbody tr th {\n",
       "        vertical-align: top;\n",
       "    }\n",
       "\n",
       "    .dataframe thead th {\n",
       "        text-align: right;\n",
       "    }\n",
       "</style>\n",
       "<table border=\"1\" class=\"dataframe\">\n",
       "  <thead>\n",
       "    <tr style=\"text-align: right;\">\n",
       "      <th></th>\n",
       "      <th>country</th>\n",
       "      <th>description</th>\n",
       "      <th>designation</th>\n",
       "      <th>points</th>\n",
       "      <th>price</th>\n",
       "      <th>province</th>\n",
       "      <th>region_1</th>\n",
       "      <th>region_2</th>\n",
       "      <th>taster_name</th>\n",
       "      <th>taster_twitter_handle</th>\n",
       "      <th>title</th>\n",
       "      <th>variety</th>\n",
       "      <th>winery</th>\n",
       "    </tr>\n",
       "  </thead>\n",
       "  <tbody>\n",
       "    <tr>\n",
       "      <th>0</th>\n",
       "      <td>Italy</td>\n",
       "      <td>Aromas include tropical fruit, broom, brimston...</td>\n",
       "      <td>Vulkà Bianco</td>\n",
       "      <td>87</td>\n",
       "      <td>NaN</td>\n",
       "      <td>Sicily &amp; Sardinia</td>\n",
       "      <td>Etna</td>\n",
       "      <td>NaN</td>\n",
       "      <td>Kerin O’Keefe</td>\n",
       "      <td>@kerinokeefe</td>\n",
       "      <td>Nicosia 2013 Vulkà Bianco  (Etna)</td>\n",
       "      <td>White Blend</td>\n",
       "      <td>Nicosia</td>\n",
       "    </tr>\n",
       "    <tr>\n",
       "      <th>1</th>\n",
       "      <td>Portugal</td>\n",
       "      <td>This is ripe and fruity, a wine that is smooth...</td>\n",
       "      <td>Avidagos</td>\n",
       "      <td>87</td>\n",
       "      <td>15.0</td>\n",
       "      <td>Douro</td>\n",
       "      <td>NaN</td>\n",
       "      <td>NaN</td>\n",
       "      <td>Roger Voss</td>\n",
       "      <td>@vossroger</td>\n",
       "      <td>Quinta dos Avidagos 2011 Avidagos Red (Douro)</td>\n",
       "      <td>Portuguese Red</td>\n",
       "      <td>Quinta dos Avidagos</td>\n",
       "    </tr>\n",
       "    <tr>\n",
       "      <th>2</th>\n",
       "      <td>US</td>\n",
       "      <td>Tart and snappy, the flavors of lime flesh and...</td>\n",
       "      <td>NaN</td>\n",
       "      <td>87</td>\n",
       "      <td>14.0</td>\n",
       "      <td>Oregon</td>\n",
       "      <td>Willamette Valley</td>\n",
       "      <td>Willamette Valley</td>\n",
       "      <td>Paul Gregutt</td>\n",
       "      <td>@paulgwine</td>\n",
       "      <td>Rainstorm 2013 Pinot Gris (Willamette Valley)</td>\n",
       "      <td>Pinot Gris</td>\n",
       "      <td>Rainstorm</td>\n",
       "    </tr>\n",
       "    <tr>\n",
       "      <th>3</th>\n",
       "      <td>US</td>\n",
       "      <td>Pineapple rind, lemon pith and orange blossom ...</td>\n",
       "      <td>Reserve Late Harvest</td>\n",
       "      <td>87</td>\n",
       "      <td>13.0</td>\n",
       "      <td>Michigan</td>\n",
       "      <td>Lake Michigan Shore</td>\n",
       "      <td>NaN</td>\n",
       "      <td>Alexander Peartree</td>\n",
       "      <td>NaN</td>\n",
       "      <td>St. Julian 2013 Reserve Late Harvest Riesling ...</td>\n",
       "      <td>Riesling</td>\n",
       "      <td>St. Julian</td>\n",
       "    </tr>\n",
       "    <tr>\n",
       "      <th>4</th>\n",
       "      <td>US</td>\n",
       "      <td>Much like the regular bottling from 2012, this...</td>\n",
       "      <td>Vintner's Reserve Wild Child Block</td>\n",
       "      <td>87</td>\n",
       "      <td>65.0</td>\n",
       "      <td>Oregon</td>\n",
       "      <td>Willamette Valley</td>\n",
       "      <td>Willamette Valley</td>\n",
       "      <td>Paul Gregutt</td>\n",
       "      <td>@paulgwine</td>\n",
       "      <td>Sweet Cheeks 2012 Vintner's Reserve Wild Child...</td>\n",
       "      <td>Pinot Noir</td>\n",
       "      <td>Sweet Cheeks</td>\n",
       "    </tr>\n",
       "  </tbody>\n",
       "</table>\n",
       "</div>"
      ],
      "text/plain": [
       "    country                                        description  \\\n",
       "0     Italy  Aromas include tropical fruit, broom, brimston...   \n",
       "1  Portugal  This is ripe and fruity, a wine that is smooth...   \n",
       "2        US  Tart and snappy, the flavors of lime flesh and...   \n",
       "3        US  Pineapple rind, lemon pith and orange blossom ...   \n",
       "4        US  Much like the regular bottling from 2012, this...   \n",
       "\n",
       "                          designation  points  price           province  \\\n",
       "0                        Vulkà Bianco      87    NaN  Sicily & Sardinia   \n",
       "1                            Avidagos      87   15.0              Douro   \n",
       "2                                 NaN      87   14.0             Oregon   \n",
       "3                Reserve Late Harvest      87   13.0           Michigan   \n",
       "4  Vintner's Reserve Wild Child Block      87   65.0             Oregon   \n",
       "\n",
       "              region_1           region_2         taster_name  \\\n",
       "0                 Etna                NaN       Kerin O’Keefe   \n",
       "1                  NaN                NaN          Roger Voss   \n",
       "2    Willamette Valley  Willamette Valley        Paul Gregutt   \n",
       "3  Lake Michigan Shore                NaN  Alexander Peartree   \n",
       "4    Willamette Valley  Willamette Valley        Paul Gregutt   \n",
       "\n",
       "  taster_twitter_handle                                              title  \\\n",
       "0          @kerinokeefe                  Nicosia 2013 Vulkà Bianco  (Etna)   \n",
       "1            @vossroger      Quinta dos Avidagos 2011 Avidagos Red (Douro)   \n",
       "2           @paulgwine       Rainstorm 2013 Pinot Gris (Willamette Valley)   \n",
       "3                   NaN  St. Julian 2013 Reserve Late Harvest Riesling ...   \n",
       "4           @paulgwine   Sweet Cheeks 2012 Vintner's Reserve Wild Child...   \n",
       "\n",
       "          variety               winery  \n",
       "0     White Blend              Nicosia  \n",
       "1  Portuguese Red  Quinta dos Avidagos  \n",
       "2      Pinot Gris            Rainstorm  \n",
       "3        Riesling           St. Julian  \n",
       "4      Pinot Noir         Sweet Cheeks  "
      ]
     },
     "execution_count": 2,
     "metadata": {},
     "output_type": "execute_result"
    }
   ],
   "source": [
    "reviews.head()"
   ]
  },
  {
   "cell_type": "markdown",
   "id": "czech-pleasure",
   "metadata": {
    "papermill": {
     "duration": 0.015207,
     "end_time": "2021-05-13T18:23:02.713702",
     "exception": false,
     "start_time": "2021-05-13T18:23:02.698495",
     "status": "completed"
    },
    "tags": []
   },
   "source": [
    "## 1.\n",
    "`region_1` and `region_2` are pretty uninformative names for locale columns in the dataset. Create a copy of `reviews` with these columns renamed to `region` and `locale`, respectively."
   ]
  },
  {
   "cell_type": "code",
   "execution_count": 3,
   "id": "exotic-amount",
   "metadata": {
    "execution": {
     "iopub.execute_input": "2021-05-13T18:23:02.752605Z",
     "iopub.status.busy": "2021-05-13T18:23:02.751921Z",
     "iopub.status.idle": "2021-05-13T18:23:02.780257Z",
     "shell.execute_reply": "2021-05-13T18:23:02.780713Z"
    },
    "papermill": {
     "duration": 0.049694,
     "end_time": "2021-05-13T18:23:02.780891",
     "exception": false,
     "start_time": "2021-05-13T18:23:02.731197",
     "status": "completed"
    },
    "tags": []
   },
   "outputs": [
    {
     "data": {
      "application/javascript": [
       "parent.postMessage({\"jupyterEvent\": \"custom.exercise_interaction\", \"data\": {\"outcomeType\": 1, \"valueTowardsCompletion\": 0.25, \"interactionType\": 1, \"questionType\": 1, \"questionId\": \"1_RenameCols\", \"learnToolsVersion\": \"0.3.4\", \"failureMessage\": \"\", \"exceptionClass\": \"\", \"trace\": \"\"}}, \"*\")"
      ],
      "text/plain": [
       "<IPython.core.display.Javascript object>"
      ]
     },
     "metadata": {},
     "output_type": "display_data"
    },
    {
     "data": {
      "text/markdown": [
       "<span style=\"color:#33cc33\">Correct</span>"
      ],
      "text/plain": [
       "Correct"
      ]
     },
     "metadata": {},
     "output_type": "display_data"
    }
   ],
   "source": [
    "# Your code here\n",
    "renamed = reviews.rename(columns=dict(region_1='region', region_2='locale'))\n",
    "\n",
    "\n",
    "# Check your answer\n",
    "q1.check()"
   ]
  },
  {
   "cell_type": "code",
   "execution_count": 4,
   "id": "surrounded-parent",
   "metadata": {
    "execution": {
     "iopub.execute_input": "2021-05-13T18:23:02.817787Z",
     "iopub.status.busy": "2021-05-13T18:23:02.817181Z",
     "iopub.status.idle": "2021-05-13T18:23:02.819752Z",
     "shell.execute_reply": "2021-05-13T18:23:02.820258Z"
    },
    "papermill": {
     "duration": 0.023309,
     "end_time": "2021-05-13T18:23:02.820440",
     "exception": false,
     "start_time": "2021-05-13T18:23:02.797131",
     "status": "completed"
    },
    "tags": []
   },
   "outputs": [],
   "source": [
    "#q1.hint()\n",
    "#q1.solution()"
   ]
  },
  {
   "cell_type": "markdown",
   "id": "necessary-oxford",
   "metadata": {
    "papermill": {
     "duration": 0.016599,
     "end_time": "2021-05-13T18:23:02.854459",
     "exception": false,
     "start_time": "2021-05-13T18:23:02.837860",
     "status": "completed"
    },
    "tags": []
   },
   "source": [
    "## 2.\n",
    "Set the index name in the dataset to `wines`."
   ]
  },
  {
   "cell_type": "code",
   "execution_count": 5,
   "id": "universal-subscription",
   "metadata": {
    "execution": {
     "iopub.execute_input": "2021-05-13T18:23:02.892960Z",
     "iopub.status.busy": "2021-05-13T18:23:02.892294Z",
     "iopub.status.idle": "2021-05-13T18:23:02.920038Z",
     "shell.execute_reply": "2021-05-13T18:23:02.919427Z"
    },
    "papermill": {
     "duration": 0.048921,
     "end_time": "2021-05-13T18:23:02.920195",
     "exception": false,
     "start_time": "2021-05-13T18:23:02.871274",
     "status": "completed"
    },
    "tags": []
   },
   "outputs": [
    {
     "data": {
      "application/javascript": [
       "parent.postMessage({\"jupyterEvent\": \"custom.exercise_interaction\", \"data\": {\"outcomeType\": 1, \"valueTowardsCompletion\": 0.25, \"interactionType\": 1, \"questionType\": 1, \"questionId\": \"2_RenameIndex\", \"learnToolsVersion\": \"0.3.4\", \"failureMessage\": \"\", \"exceptionClass\": \"\", \"trace\": \"\"}}, \"*\")"
      ],
      "text/plain": [
       "<IPython.core.display.Javascript object>"
      ]
     },
     "metadata": {},
     "output_type": "display_data"
    },
    {
     "data": {
      "text/markdown": [
       "<span style=\"color:#33cc33\">Correct</span>"
      ],
      "text/plain": [
       "Correct"
      ]
     },
     "metadata": {},
     "output_type": "display_data"
    }
   ],
   "source": [
    "reindexed = reviews.rename_axis('wines', axis='rows')\n",
    "\n",
    "# Check your answer\n",
    "q2.check()"
   ]
  },
  {
   "cell_type": "code",
   "execution_count": 6,
   "id": "considerable-volleyball",
   "metadata": {
    "execution": {
     "iopub.execute_input": "2021-05-13T18:23:02.960742Z",
     "iopub.status.busy": "2021-05-13T18:23:02.959726Z",
     "iopub.status.idle": "2021-05-13T18:23:02.963185Z",
     "shell.execute_reply": "2021-05-13T18:23:02.962560Z"
    },
    "papermill": {
     "duration": 0.02537,
     "end_time": "2021-05-13T18:23:02.963323",
     "exception": false,
     "start_time": "2021-05-13T18:23:02.937953",
     "status": "completed"
    },
    "tags": []
   },
   "outputs": [],
   "source": [
    "#q2.hint()\n",
    "#q2.solution()"
   ]
  },
  {
   "cell_type": "markdown",
   "id": "exposed-significance",
   "metadata": {
    "papermill": {
     "duration": 0.017763,
     "end_time": "2021-05-13T18:23:02.998852",
     "exception": false,
     "start_time": "2021-05-13T18:23:02.981089",
     "status": "completed"
    },
    "tags": []
   },
   "source": [
    "## 3.\n",
    "The [Things on Reddit](https://www.kaggle.com/residentmario/things-on-reddit/data) dataset includes product links from a selection of top-ranked forums (\"subreddits\") on reddit.com. Run the cell below to load a dataframe of products mentioned on the */r/gaming* subreddit and another dataframe for products mentioned on the *r//movies* subreddit."
   ]
  },
  {
   "cell_type": "code",
   "execution_count": 7,
   "id": "considered-radio",
   "metadata": {
    "execution": {
     "iopub.execute_input": "2021-05-13T18:23:03.040626Z",
     "iopub.status.busy": "2021-05-13T18:23:03.039917Z",
     "iopub.status.idle": "2021-05-13T18:23:03.051672Z",
     "shell.execute_reply": "2021-05-13T18:23:03.051130Z"
    },
    "papermill": {
     "duration": 0.035216,
     "end_time": "2021-05-13T18:23:03.051810",
     "exception": false,
     "start_time": "2021-05-13T18:23:03.016594",
     "status": "completed"
    },
    "tags": []
   },
   "outputs": [],
   "source": [
    "gaming_products = pd.read_csv(\"../input/things-on-reddit/top-things/top-things/reddits/g/gaming.csv\")\n",
    "gaming_products['subreddit'] = \"r/gaming\"\n",
    "movie_products = pd.read_csv(\"../input/things-on-reddit/top-things/top-things/reddits/m/movies.csv\")\n",
    "movie_products['subreddit'] = \"r/movies\""
   ]
  },
  {
   "cell_type": "markdown",
   "id": "limiting-detection",
   "metadata": {
    "papermill": {
     "duration": 0.01787,
     "end_time": "2021-05-13T18:23:03.087989",
     "exception": false,
     "start_time": "2021-05-13T18:23:03.070119",
     "status": "completed"
    },
    "tags": []
   },
   "source": [
    "Create a `DataFrame` of products mentioned on *either* subreddit."
   ]
  },
  {
   "cell_type": "code",
   "execution_count": 8,
   "id": "returning-advice",
   "metadata": {
    "execution": {
     "iopub.execute_input": "2021-05-13T18:23:03.136928Z",
     "iopub.status.busy": "2021-05-13T18:23:03.129268Z",
     "iopub.status.idle": "2021-05-13T18:23:03.142733Z",
     "shell.execute_reply": "2021-05-13T18:23:03.142097Z"
    },
    "papermill": {
     "duration": 0.036693,
     "end_time": "2021-05-13T18:23:03.142871",
     "exception": false,
     "start_time": "2021-05-13T18:23:03.106178",
     "status": "completed"
    },
    "tags": []
   },
   "outputs": [
    {
     "data": {
      "application/javascript": [
       "parent.postMessage({\"jupyterEvent\": \"custom.exercise_interaction\", \"data\": {\"outcomeType\": 1, \"valueTowardsCompletion\": 0.25, \"interactionType\": 1, \"questionType\": 2, \"questionId\": \"3_ConcatReddit\", \"learnToolsVersion\": \"0.3.4\", \"failureMessage\": \"\", \"exceptionClass\": \"\", \"trace\": \"\"}}, \"*\")"
      ],
      "text/plain": [
       "<IPython.core.display.Javascript object>"
      ]
     },
     "metadata": {},
     "output_type": "display_data"
    },
    {
     "data": {
      "text/markdown": [
       "<span style=\"color:#33cc33\">Correct</span>"
      ],
      "text/plain": [
       "Correct"
      ]
     },
     "metadata": {},
     "output_type": "display_data"
    }
   ],
   "source": [
    "combined_products = pd.concat([gaming_products, movie_products])\n",
    "\n",
    "\n",
    "# Check your answer\n",
    "q3.check()"
   ]
  },
  {
   "cell_type": "code",
   "execution_count": 9,
   "id": "angry-giving",
   "metadata": {
    "execution": {
     "iopub.execute_input": "2021-05-13T18:23:03.184973Z",
     "iopub.status.busy": "2021-05-13T18:23:03.184307Z",
     "iopub.status.idle": "2021-05-13T18:23:03.187305Z",
     "shell.execute_reply": "2021-05-13T18:23:03.186666Z"
    },
    "papermill": {
     "duration": 0.02561,
     "end_time": "2021-05-13T18:23:03.187451",
     "exception": false,
     "start_time": "2021-05-13T18:23:03.161841",
     "status": "completed"
    },
    "tags": []
   },
   "outputs": [],
   "source": [
    "#q3.hint()\n",
    "#q3.solution()"
   ]
  },
  {
   "cell_type": "markdown",
   "id": "filled-ridge",
   "metadata": {
    "papermill": {
     "duration": 0.018795,
     "end_time": "2021-05-13T18:23:03.225457",
     "exception": false,
     "start_time": "2021-05-13T18:23:03.206662",
     "status": "completed"
    },
    "tags": []
   },
   "source": [
    "## 4.\n",
    "The [Powerlifting Database](https://www.kaggle.com/open-powerlifting/powerlifting-database) dataset on Kaggle includes one CSV table for powerlifting meets and a separate one for powerlifting competitors. Run the cell below to load these datasets into dataframes:"
   ]
  },
  {
   "cell_type": "code",
   "execution_count": 10,
   "id": "temporal-finnish",
   "metadata": {
    "execution": {
     "iopub.execute_input": "2021-05-13T18:23:03.267621Z",
     "iopub.status.busy": "2021-05-13T18:23:03.266976Z",
     "iopub.status.idle": "2021-05-13T18:23:04.136335Z",
     "shell.execute_reply": "2021-05-13T18:23:04.136833Z"
    },
    "papermill": {
     "duration": 0.892065,
     "end_time": "2021-05-13T18:23:04.137013",
     "exception": false,
     "start_time": "2021-05-13T18:23:03.244948",
     "status": "completed"
    },
    "tags": []
   },
   "outputs": [],
   "source": [
    "powerlifting_meets = pd.read_csv(\"../input/powerlifting-database/meets.csv\")\n",
    "powerlifting_competitors = pd.read_csv(\"../input/powerlifting-database/openpowerlifting.csv\")"
   ]
  },
  {
   "cell_type": "markdown",
   "id": "strategic-flood",
   "metadata": {
    "papermill": {
     "duration": 0.018962,
     "end_time": "2021-05-13T18:23:04.175446",
     "exception": false,
     "start_time": "2021-05-13T18:23:04.156484",
     "status": "completed"
    },
    "tags": []
   },
   "source": [
    "Both tables include references to a `MeetID`, a unique key for each meet (competition) included in the database. Using this, generate a dataset combining the two tables into one."
   ]
  },
  {
   "cell_type": "code",
   "execution_count": 11,
   "id": "mediterranean-gregory",
   "metadata": {
    "execution": {
     "iopub.execute_input": "2021-05-13T18:23:04.217333Z",
     "iopub.status.busy": "2021-05-13T18:23:04.216703Z",
     "iopub.status.idle": "2021-05-13T18:23:05.582088Z",
     "shell.execute_reply": "2021-05-13T18:23:05.581471Z"
    },
    "papermill": {
     "duration": 1.387297,
     "end_time": "2021-05-13T18:23:05.582222",
     "exception": false,
     "start_time": "2021-05-13T18:23:04.194925",
     "status": "completed"
    },
    "tags": []
   },
   "outputs": [
    {
     "data": {
      "application/javascript": [
       "parent.postMessage({\"jupyterEvent\": \"custom.exercise_interaction\", \"data\": {\"outcomeType\": 1, \"valueTowardsCompletion\": 0.25, \"interactionType\": 1, \"questionType\": 2, \"questionId\": \"4_JoinLifting\", \"learnToolsVersion\": \"0.3.4\", \"failureMessage\": \"\", \"exceptionClass\": \"\", \"trace\": \"\"}}, \"*\")"
      ],
      "text/plain": [
       "<IPython.core.display.Javascript object>"
      ]
     },
     "metadata": {},
     "output_type": "display_data"
    },
    {
     "data": {
      "text/markdown": [
       "<span style=\"color:#33cc33\">Correct</span>"
      ],
      "text/plain": [
       "Correct"
      ]
     },
     "metadata": {},
     "output_type": "display_data"
    }
   ],
   "source": [
    "powerlifting_combined = powerlifting_meets.set_index(\"MeetID\").join(powerlifting_competitors.set_index(\"MeetID\"))\n",
    "\n",
    "\n",
    "# Check your answer\n",
    "q4.check()"
   ]
  },
  {
   "cell_type": "code",
   "execution_count": 12,
   "id": "satisfactory-smooth",
   "metadata": {
    "execution": {
     "iopub.execute_input": "2021-05-13T18:23:05.626122Z",
     "iopub.status.busy": "2021-05-13T18:23:05.625505Z",
     "iopub.status.idle": "2021-05-13T18:23:05.628515Z",
     "shell.execute_reply": "2021-05-13T18:23:05.629001Z"
    },
    "papermill": {
     "duration": 0.026579,
     "end_time": "2021-05-13T18:23:05.629204",
     "exception": false,
     "start_time": "2021-05-13T18:23:05.602625",
     "status": "completed"
    },
    "tags": []
   },
   "outputs": [],
   "source": [
    "#q4.hint()\n",
    "#q4.solution()"
   ]
  },
  {
   "cell_type": "markdown",
   "id": "ceramic-soviet",
   "metadata": {
    "papermill": {
     "duration": 0.020391,
     "end_time": "2021-05-13T18:23:05.670217",
     "exception": false,
     "start_time": "2021-05-13T18:23:05.649826",
     "status": "completed"
    },
    "tags": []
   },
   "source": [
    "# Congratulations!\n",
    "\n",
    "You've finished the Pandas micro-course.  Many data scientists feel efficiency with Pandas is the most useful and practical skill they have, because it allows you to progress quickly in any project you have.\n",
    "\n",
    "If you'd like to apply your new skills to examining geospatial data, you're encouraged to check out our **[Geospatial Analysis](https://www.kaggle.com/learn/geospatial-analysis)** micro-course.\n",
    "\n",
    "You can also take advantage of your Pandas skills by entering a **[Kaggle Competition](https://www.kaggle.com/competitions)** or by answering a question you find interesting using **[Kaggle Datasets](https://www.kaggle.com/datasets)**."
   ]
  },
  {
   "cell_type": "markdown",
   "id": "regulation-friend",
   "metadata": {
    "papermill": {
     "duration": 0.020365,
     "end_time": "2021-05-13T18:23:05.711355",
     "exception": false,
     "start_time": "2021-05-13T18:23:05.690990",
     "status": "completed"
    },
    "tags": []
   },
   "source": [
    "---\n",
    "\n",
    "\n",
    "\n",
    "\n",
    "*Have questions or comments? Visit the [Learn Discussion forum](https://www.kaggle.com/learn-forum/161299) to chat with other Learners.*"
   ]
  }
 ],
 "metadata": {
  "kernelspec": {
   "display_name": "Python 3",
   "language": "python",
   "name": "python3"
  },
  "language_info": {
   "codemirror_mode": {
    "name": "ipython",
    "version": 3
   },
   "file_extension": ".py",
   "mimetype": "text/x-python",
   "name": "python",
   "nbconvert_exporter": "python",
   "pygments_lexer": "ipython3",
   "version": "3.7.9"
  },
  "papermill": {
   "default_parameters": {},
   "duration": 14.300018,
   "end_time": "2021-05-13T18:23:06.441839",
   "environment_variables": {},
   "exception": null,
   "input_path": "__notebook__.ipynb",
   "output_path": "__notebook__.ipynb",
   "parameters": {},
   "start_time": "2021-05-13T18:22:52.141821",
   "version": "2.3.2"
  }
 },
 "nbformat": 4,
 "nbformat_minor": 5
}
