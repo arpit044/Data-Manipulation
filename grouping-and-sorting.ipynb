{
 "cells": [
  {
   "cell_type": "markdown",
   "id": "exclusive-journalism",
   "metadata": {
    "papermill": {
     "duration": 0.016824,
     "end_time": "2021-05-13T16:56:27.605966",
     "exception": false,
     "start_time": "2021-05-13T16:56:27.589142",
     "status": "completed"
    },
    "tags": []
   },
   "source": [
    "**This notebook is an exercise in the [Pandas](https://www.kaggle.com/learn/pandas) course.  You can reference the tutorial at [this link](https://www.kaggle.com/residentmario/grouping-and-sorting).**\n",
    "\n",
    "---\n"
   ]
  },
  {
   "cell_type": "markdown",
   "id": "pharmaceutical-digest",
   "metadata": {
    "papermill": {
     "duration": 0.015465,
     "end_time": "2021-05-13T16:56:27.637589",
     "exception": false,
     "start_time": "2021-05-13T16:56:27.622124",
     "status": "completed"
    },
    "tags": []
   },
   "source": [
    "# Introduction\n",
    "\n",
    "In these exercises we'll apply groupwise analysis to our dataset.\n",
    "\n",
    "Run the code cell below to load the data before running the exercises."
   ]
  },
  {
   "cell_type": "code",
   "execution_count": 1,
   "id": "instant-mining",
   "metadata": {
    "execution": {
     "iopub.execute_input": "2021-05-13T16:56:27.674222Z",
     "iopub.status.busy": "2021-05-13T16:56:27.672988Z",
     "iopub.status.idle": "2021-05-13T16:56:31.019220Z",
     "shell.execute_reply": "2021-05-13T16:56:31.019954Z"
    },
    "papermill": {
     "duration": 3.366818,
     "end_time": "2021-05-13T16:56:31.020373",
     "exception": false,
     "start_time": "2021-05-13T16:56:27.653555",
     "status": "completed"
    },
    "tags": []
   },
   "outputs": [
    {
     "name": "stdout",
     "output_type": "stream",
     "text": [
      "Setup complete.\n"
     ]
    }
   ],
   "source": [
    "import pandas as pd\n",
    "\n",
    "reviews = pd.read_csv(\"../input/wine-reviews/winemag-data-130k-v2.csv\", index_col=0)\n",
    "#pd.set_option(\"display.max_rows\", 5)\n",
    "\n",
    "from learntools.core import binder; binder.bind(globals())\n",
    "from learntools.pandas.grouping_and_sorting import *\n",
    "print(\"Setup complete.\")"
   ]
  },
  {
   "cell_type": "markdown",
   "id": "moral-semester",
   "metadata": {
    "papermill": {
     "duration": 0.016027,
     "end_time": "2021-05-13T16:56:31.053840",
     "exception": false,
     "start_time": "2021-05-13T16:56:31.037813",
     "status": "completed"
    },
    "tags": []
   },
   "source": [
    "# Exercises"
   ]
  },
  {
   "cell_type": "markdown",
   "id": "agricultural-factor",
   "metadata": {
    "papermill": {
     "duration": 0.016231,
     "end_time": "2021-05-13T16:56:31.086471",
     "exception": false,
     "start_time": "2021-05-13T16:56:31.070240",
     "status": "completed"
    },
    "tags": []
   },
   "source": [
    "## 1.\n",
    "Who are the most common wine reviewers in the dataset? Create a `Series` whose index is the `taster_twitter_handle` category from the dataset, and whose values count how many reviews each person wrote."
   ]
  },
  {
   "cell_type": "code",
   "execution_count": 2,
   "id": "latter-gothic",
   "metadata": {
    "execution": {
     "iopub.execute_input": "2021-05-13T16:56:31.143298Z",
     "iopub.status.busy": "2021-05-13T16:56:31.142549Z",
     "iopub.status.idle": "2021-05-13T16:56:31.154356Z",
     "shell.execute_reply": "2021-05-13T16:56:31.153833Z"
    },
    "papermill": {
     "duration": 0.050882,
     "end_time": "2021-05-13T16:56:31.154501",
     "exception": false,
     "start_time": "2021-05-13T16:56:31.103619",
     "status": "completed"
    },
    "tags": []
   },
   "outputs": [
    {
     "data": {
      "application/javascript": [
       "parent.postMessage({\"jupyterEvent\": \"custom.exercise_interaction\", \"data\": {\"outcomeType\": 1, \"valueTowardsCompletion\": 0.16666666666666666, \"interactionType\": 1, \"questionType\": 1, \"questionId\": \"1_ReviewsWritten\", \"learnToolsVersion\": \"0.3.4\", \"failureMessage\": \"\", \"exceptionClass\": \"\", \"trace\": \"\"}}, \"*\")"
      ],
      "text/plain": [
       "<IPython.core.display.Javascript object>"
      ]
     },
     "metadata": {},
     "output_type": "display_data"
    },
    {
     "data": {
      "text/markdown": [
       "<span style=\"color:#33cc33\">Correct:</span> \n",
       "\n",
       "\n",
       "```python\n",
       "reviews_written = reviews.groupby('taster_twitter_handle').size()\n",
       "```\n",
       "or\n",
       "```python\n",
       "reviews_written = reviews.groupby('taster_twitter_handle').taster_twitter_handle.count()\n",
       "```\n"
      ],
      "text/plain": [
       "Correct: \n",
       "\n",
       "\n",
       "```python\n",
       "reviews_written = reviews.groupby('taster_twitter_handle').size()\n",
       "```\n",
       "or\n",
       "```python\n",
       "reviews_written = reviews.groupby('taster_twitter_handle').taster_twitter_handle.count()\n",
       "```"
      ]
     },
     "metadata": {},
     "output_type": "display_data"
    }
   ],
   "source": [
    "# Your code here\n",
    "reviews_written = reviews.groupby('taster_twitter_handle').size()\n",
    "\n",
    "\n",
    "# Check your answer\n",
    "q1.check()"
   ]
  },
  {
   "cell_type": "code",
   "execution_count": 3,
   "id": "otherwise-aruba",
   "metadata": {
    "execution": {
     "iopub.execute_input": "2021-05-13T16:56:31.194968Z",
     "iopub.status.busy": "2021-05-13T16:56:31.194019Z",
     "iopub.status.idle": "2021-05-13T16:56:31.197300Z",
     "shell.execute_reply": "2021-05-13T16:56:31.196696Z"
    },
    "papermill": {
     "duration": 0.025401,
     "end_time": "2021-05-13T16:56:31.197450",
     "exception": false,
     "start_time": "2021-05-13T16:56:31.172049",
     "status": "completed"
    },
    "tags": []
   },
   "outputs": [],
   "source": [
    "#q1.hint()\n",
    "#q1.solution()"
   ]
  },
  {
   "cell_type": "markdown",
   "id": "clean-natural",
   "metadata": {
    "papermill": {
     "duration": 0.017644,
     "end_time": "2021-05-13T16:56:31.232958",
     "exception": false,
     "start_time": "2021-05-13T16:56:31.215314",
     "status": "completed"
    },
    "tags": []
   },
   "source": [
    "## 2.\n",
    "What is the best wine I can buy for a given amount of money? Create a `Series` whose index is wine prices and whose values is the maximum number of points a wine costing that much was given in a review. Sort the values by price, ascending (so that `4.0` dollars is at the top and `3300.0` dollars is at the bottom)."
   ]
  },
  {
   "cell_type": "code",
   "execution_count": 4,
   "id": "associate-portuguese",
   "metadata": {
    "execution": {
     "iopub.execute_input": "2021-05-13T16:56:31.275544Z",
     "iopub.status.busy": "2021-05-13T16:56:31.274683Z",
     "iopub.status.idle": "2021-05-13T16:56:31.292001Z",
     "shell.execute_reply": "2021-05-13T16:56:31.291171Z"
    },
    "papermill": {
     "duration": 0.039796,
     "end_time": "2021-05-13T16:56:31.292162",
     "exception": false,
     "start_time": "2021-05-13T16:56:31.252366",
     "status": "completed"
    },
    "tags": []
   },
   "outputs": [
    {
     "data": {
      "application/javascript": [
       "parent.postMessage({\"jupyterEvent\": \"custom.exercise_interaction\", \"data\": {\"outcomeType\": 1, \"valueTowardsCompletion\": 0.16666666666666666, \"interactionType\": 1, \"questionType\": 1, \"questionId\": \"2_BestRatingPerPrice\", \"learnToolsVersion\": \"0.3.4\", \"failureMessage\": \"\", \"exceptionClass\": \"\", \"trace\": \"\"}}, \"*\")"
      ],
      "text/plain": [
       "<IPython.core.display.Javascript object>"
      ]
     },
     "metadata": {},
     "output_type": "display_data"
    },
    {
     "data": {
      "text/markdown": [
       "<span style=\"color:#33cc33\">Correct</span>"
      ],
      "text/plain": [
       "Correct"
      ]
     },
     "metadata": {},
     "output_type": "display_data"
    }
   ],
   "source": [
    "best_rating_per_price = reviews.groupby('price')['points'].max().sort_index()\n",
    "\n",
    "\n",
    "# Check your answer\n",
    "q2.check()"
   ]
  },
  {
   "cell_type": "code",
   "execution_count": 5,
   "id": "spanish-salem",
   "metadata": {
    "execution": {
     "iopub.execute_input": "2021-05-13T16:56:31.335774Z",
     "iopub.status.busy": "2021-05-13T16:56:31.334816Z",
     "iopub.status.idle": "2021-05-13T16:56:31.338614Z",
     "shell.execute_reply": "2021-05-13T16:56:31.337909Z"
    },
    "papermill": {
     "duration": 0.027638,
     "end_time": "2021-05-13T16:56:31.338776",
     "exception": false,
     "start_time": "2021-05-13T16:56:31.311138",
     "status": "completed"
    },
    "tags": []
   },
   "outputs": [],
   "source": [
    "#q2.hint()\n",
    "#q2.solution()"
   ]
  },
  {
   "cell_type": "markdown",
   "id": "raising-rover",
   "metadata": {
    "papermill": {
     "duration": 0.019804,
     "end_time": "2021-05-13T16:56:31.377435",
     "exception": false,
     "start_time": "2021-05-13T16:56:31.357631",
     "status": "completed"
    },
    "tags": []
   },
   "source": [
    "## 3.\n",
    "What are the minimum and maximum prices for each `variety` of wine? Create a `DataFrame` whose index is the `variety` category from the dataset and whose values are the `min` and `max` values thereof."
   ]
  },
  {
   "cell_type": "code",
   "execution_count": 6,
   "id": "changing-campus",
   "metadata": {
    "execution": {
     "iopub.execute_input": "2021-05-13T16:56:31.421114Z",
     "iopub.status.busy": "2021-05-13T16:56:31.420360Z",
     "iopub.status.idle": "2021-05-13T16:56:31.455736Z",
     "shell.execute_reply": "2021-05-13T16:56:31.455015Z"
    },
    "papermill": {
     "duration": 0.059515,
     "end_time": "2021-05-13T16:56:31.455934",
     "exception": false,
     "start_time": "2021-05-13T16:56:31.396419",
     "status": "completed"
    },
    "tags": []
   },
   "outputs": [
    {
     "data": {
      "application/javascript": [
       "parent.postMessage({\"jupyterEvent\": \"custom.exercise_interaction\", \"data\": {\"outcomeType\": 1, \"valueTowardsCompletion\": 0.16666666666666666, \"interactionType\": 1, \"questionType\": 1, \"questionId\": \"3_PriceExtremes\", \"learnToolsVersion\": \"0.3.4\", \"failureMessage\": \"\", \"exceptionClass\": \"\", \"trace\": \"\"}}, \"*\")"
      ],
      "text/plain": [
       "<IPython.core.display.Javascript object>"
      ]
     },
     "metadata": {},
     "output_type": "display_data"
    },
    {
     "data": {
      "text/markdown": [
       "<span style=\"color:#33cc33\">Correct</span>"
      ],
      "text/plain": [
       "Correct"
      ]
     },
     "metadata": {},
     "output_type": "display_data"
    }
   ],
   "source": [
    "price_extremes = reviews.groupby('variety').price.agg([min, max])\n",
    "\n",
    "\n",
    "# Check your answer\n",
    "q3.check()"
   ]
  },
  {
   "cell_type": "code",
   "execution_count": 7,
   "id": "established-relations",
   "metadata": {
    "execution": {
     "iopub.execute_input": "2021-05-13T16:56:31.501414Z",
     "iopub.status.busy": "2021-05-13T16:56:31.500668Z",
     "iopub.status.idle": "2021-05-13T16:56:31.505260Z",
     "shell.execute_reply": "2021-05-13T16:56:31.504429Z"
    },
    "papermill": {
     "duration": 0.029307,
     "end_time": "2021-05-13T16:56:31.505436",
     "exception": false,
     "start_time": "2021-05-13T16:56:31.476129",
     "status": "completed"
    },
    "tags": []
   },
   "outputs": [],
   "source": [
    "#q3.hint()\n",
    "#q3.solution()"
   ]
  },
  {
   "cell_type": "markdown",
   "id": "postal-guarantee",
   "metadata": {
    "papermill": {
     "duration": 0.019736,
     "end_time": "2021-05-13T16:56:31.545512",
     "exception": false,
     "start_time": "2021-05-13T16:56:31.525776",
     "status": "completed"
    },
    "tags": []
   },
   "source": [
    "## 4.\n",
    "What are the most expensive wine varieties? Create a variable `sorted_varieties` containing a copy of the dataframe from the previous question where varieties are sorted in descending order based on minimum price, then on maximum price (to break ties)."
   ]
  },
  {
   "cell_type": "code",
   "execution_count": 8,
   "id": "divided-talent",
   "metadata": {
    "execution": {
     "iopub.execute_input": "2021-05-13T16:56:31.593603Z",
     "iopub.status.busy": "2021-05-13T16:56:31.592738Z",
     "iopub.status.idle": "2021-05-13T16:56:31.601776Z",
     "shell.execute_reply": "2021-05-13T16:56:31.602289Z"
    },
    "papermill": {
     "duration": 0.036846,
     "end_time": "2021-05-13T16:56:31.602484",
     "exception": false,
     "start_time": "2021-05-13T16:56:31.565638",
     "status": "completed"
    },
    "tags": []
   },
   "outputs": [
    {
     "data": {
      "application/javascript": [
       "parent.postMessage({\"jupyterEvent\": \"custom.exercise_interaction\", \"data\": {\"outcomeType\": 1, \"valueTowardsCompletion\": 0.16666666666666666, \"interactionType\": 1, \"questionType\": 1, \"questionId\": \"4_SortedVarieties\", \"learnToolsVersion\": \"0.3.4\", \"failureMessage\": \"\", \"exceptionClass\": \"\", \"trace\": \"\"}}, \"*\")"
      ],
      "text/plain": [
       "<IPython.core.display.Javascript object>"
      ]
     },
     "metadata": {},
     "output_type": "display_data"
    },
    {
     "data": {
      "text/markdown": [
       "<span style=\"color:#33cc33\">Correct</span>"
      ],
      "text/plain": [
       "Correct"
      ]
     },
     "metadata": {},
     "output_type": "display_data"
    }
   ],
   "source": [
    "sorted_varieties = price_extremes.sort_values(by=['min', 'max'], ascending=False)\n",
    "\n",
    "\n",
    "# Check your answer\n",
    "q4.check()"
   ]
  },
  {
   "cell_type": "code",
   "execution_count": 9,
   "id": "demanding-drain",
   "metadata": {
    "execution": {
     "iopub.execute_input": "2021-05-13T16:56:31.650713Z",
     "iopub.status.busy": "2021-05-13T16:56:31.649935Z",
     "iopub.status.idle": "2021-05-13T16:56:31.653754Z",
     "shell.execute_reply": "2021-05-13T16:56:31.653051Z"
    },
    "papermill": {
     "duration": 0.030132,
     "end_time": "2021-05-13T16:56:31.653934",
     "exception": false,
     "start_time": "2021-05-13T16:56:31.623802",
     "status": "completed"
    },
    "tags": []
   },
   "outputs": [],
   "source": [
    "#q4.hint()\n",
    "#q4.solution()"
   ]
  },
  {
   "cell_type": "markdown",
   "id": "typical-healthcare",
   "metadata": {
    "papermill": {
     "duration": 0.021374,
     "end_time": "2021-05-13T16:56:31.696730",
     "exception": false,
     "start_time": "2021-05-13T16:56:31.675356",
     "status": "completed"
    },
    "tags": []
   },
   "source": [
    "## 5.\n",
    "Create a `Series` whose index is reviewers and whose values is the average review score given out by that reviewer. Hint: you will need the `taster_name` and `points` columns."
   ]
  },
  {
   "cell_type": "code",
   "execution_count": 10,
   "id": "early-discount",
   "metadata": {
    "execution": {
     "iopub.execute_input": "2021-05-13T16:56:31.762461Z",
     "iopub.status.busy": "2021-05-13T16:56:31.761608Z",
     "iopub.status.idle": "2021-05-13T16:56:31.771604Z",
     "shell.execute_reply": "2021-05-13T16:56:31.770951Z"
    },
    "papermill": {
     "duration": 0.053518,
     "end_time": "2021-05-13T16:56:31.771749",
     "exception": false,
     "start_time": "2021-05-13T16:56:31.718231",
     "status": "completed"
    },
    "tags": []
   },
   "outputs": [
    {
     "data": {
      "application/javascript": [
       "parent.postMessage({\"jupyterEvent\": \"custom.exercise_interaction\", \"data\": {\"outcomeType\": 1, \"valueTowardsCompletion\": 0.16666666666666666, \"interactionType\": 1, \"questionType\": 1, \"questionId\": \"5_ReviewerMeanRatings\", \"learnToolsVersion\": \"0.3.4\", \"failureMessage\": \"\", \"exceptionClass\": \"\", \"trace\": \"\"}}, \"*\")"
      ],
      "text/plain": [
       "<IPython.core.display.Javascript object>"
      ]
     },
     "metadata": {},
     "output_type": "display_data"
    },
    {
     "data": {
      "text/markdown": [
       "<span style=\"color:#33cc33\">Correct</span>"
      ],
      "text/plain": [
       "Correct"
      ]
     },
     "metadata": {},
     "output_type": "display_data"
    }
   ],
   "source": [
    "reviewer_mean_ratings = reviews.groupby('taster_name').points.mean()\n",
    "\n",
    "\n",
    "# Check your answer\n",
    "q5.check()"
   ]
  },
  {
   "cell_type": "code",
   "execution_count": 11,
   "id": "ongoing-engineering",
   "metadata": {
    "execution": {
     "iopub.execute_input": "2021-05-13T16:56:31.821753Z",
     "iopub.status.busy": "2021-05-13T16:56:31.821100Z",
     "iopub.status.idle": "2021-05-13T16:56:31.824123Z",
     "shell.execute_reply": "2021-05-13T16:56:31.823454Z"
    },
    "papermill": {
     "duration": 0.030009,
     "end_time": "2021-05-13T16:56:31.824268",
     "exception": false,
     "start_time": "2021-05-13T16:56:31.794259",
     "status": "completed"
    },
    "tags": []
   },
   "outputs": [],
   "source": [
    "#q5.hint()\n",
    "#q5.solution()"
   ]
  },
  {
   "cell_type": "markdown",
   "id": "automated-trance",
   "metadata": {
    "papermill": {
     "duration": 0.023594,
     "end_time": "2021-05-13T16:56:31.870514",
     "exception": false,
     "start_time": "2021-05-13T16:56:31.846920",
     "status": "completed"
    },
    "tags": []
   },
   "source": [
    "Are there significant differences in the average scores assigned by the various reviewers? Run the cell below to use the `describe()` method to see a summary of the range of values."
   ]
  },
  {
   "cell_type": "code",
   "execution_count": 12,
   "id": "suburban-participant",
   "metadata": {
    "execution": {
     "iopub.execute_input": "2021-05-13T16:56:31.923145Z",
     "iopub.status.busy": "2021-05-13T16:56:31.922322Z",
     "iopub.status.idle": "2021-05-13T16:56:31.933727Z",
     "shell.execute_reply": "2021-05-13T16:56:31.933109Z"
    },
    "papermill": {
     "duration": 0.040351,
     "end_time": "2021-05-13T16:56:31.933895",
     "exception": false,
     "start_time": "2021-05-13T16:56:31.893544",
     "status": "completed"
    },
    "tags": []
   },
   "outputs": [
    {
     "data": {
      "text/plain": [
       "count    19.000000\n",
       "mean     88.233026\n",
       "std       1.243610\n",
       "min      85.855422\n",
       "25%      87.323501\n",
       "50%      88.536235\n",
       "75%      88.975256\n",
       "max      90.562551\n",
       "Name: points, dtype: float64"
      ]
     },
     "execution_count": 12,
     "metadata": {},
     "output_type": "execute_result"
    }
   ],
   "source": [
    "reviewer_mean_ratings.describe()"
   ]
  },
  {
   "cell_type": "markdown",
   "id": "strange-leisure",
   "metadata": {
    "papermill": {
     "duration": 0.023084,
     "end_time": "2021-05-13T16:56:31.979987",
     "exception": false,
     "start_time": "2021-05-13T16:56:31.956903",
     "status": "completed"
    },
    "tags": []
   },
   "source": [
    "## 6.\n",
    "What combination of countries and varieties are most common? Create a `Series` whose index is a `MultiIndex`of `{country, variety}` pairs. For example, a pinot noir produced in the US should map to `{\"US\", \"Pinot Noir\"}`. Sort the values in the `Series` in descending order based on wine count."
   ]
  },
  {
   "cell_type": "code",
   "execution_count": 13,
   "id": "covered-medication",
   "metadata": {
    "execution": {
     "iopub.execute_input": "2021-05-13T16:56:32.049342Z",
     "iopub.status.busy": "2021-05-13T16:56:32.048365Z",
     "iopub.status.idle": "2021-05-13T16:56:32.081728Z",
     "shell.execute_reply": "2021-05-13T16:56:32.081200Z"
    },
    "papermill": {
     "duration": 0.078463,
     "end_time": "2021-05-13T16:56:32.081917",
     "exception": false,
     "start_time": "2021-05-13T16:56:32.003454",
     "status": "completed"
    },
    "tags": []
   },
   "outputs": [
    {
     "data": {
      "application/javascript": [
       "parent.postMessage({\"jupyterEvent\": \"custom.exercise_interaction\", \"data\": {\"outcomeType\": 1, \"valueTowardsCompletion\": 0.16666666666666666, \"interactionType\": 1, \"questionType\": 1, \"questionId\": \"6_GroupbyCountryVariety\", \"learnToolsVersion\": \"0.3.4\", \"failureMessage\": \"\", \"exceptionClass\": \"\", \"trace\": \"\"}}, \"*\")"
      ],
      "text/plain": [
       "<IPython.core.display.Javascript object>"
      ]
     },
     "metadata": {},
     "output_type": "display_data"
    },
    {
     "data": {
      "text/markdown": [
       "<span style=\"color:#33cc33\">Correct</span>"
      ],
      "text/plain": [
       "Correct"
      ]
     },
     "metadata": {},
     "output_type": "display_data"
    }
   ],
   "source": [
    "country_variety_counts = reviews.groupby(['country', 'variety']).size().sort_values(ascending=False)\n",
    "\n",
    "\n",
    "# Check your answer\n",
    "q6.check()"
   ]
  },
  {
   "cell_type": "code",
   "execution_count": 14,
   "id": "intelligent-father",
   "metadata": {
    "execution": {
     "iopub.execute_input": "2021-05-13T16:56:32.136501Z",
     "iopub.status.busy": "2021-05-13T16:56:32.135331Z",
     "iopub.status.idle": "2021-05-13T16:56:32.139441Z",
     "shell.execute_reply": "2021-05-13T16:56:32.138638Z"
    },
    "papermill": {
     "duration": 0.033259,
     "end_time": "2021-05-13T16:56:32.139605",
     "exception": false,
     "start_time": "2021-05-13T16:56:32.106346",
     "status": "completed"
    },
    "tags": []
   },
   "outputs": [],
   "source": [
    "#q6.hint()\n",
    "#q6.solution()"
   ]
  },
  {
   "cell_type": "markdown",
   "id": "formal-craps",
   "metadata": {
    "papermill": {
     "duration": 0.024191,
     "end_time": "2021-05-13T16:56:32.187989",
     "exception": false,
     "start_time": "2021-05-13T16:56:32.163798",
     "status": "completed"
    },
    "tags": []
   },
   "source": [
    "# Keep going\n",
    "\n",
    "Move on to the [**data types and missing data**](https://www.kaggle.com/residentmario/data-types-and-missing-values)."
   ]
  },
  {
   "cell_type": "markdown",
   "id": "drawn-senior",
   "metadata": {
    "papermill": {
     "duration": 0.023735,
     "end_time": "2021-05-13T16:56:32.236000",
     "exception": false,
     "start_time": "2021-05-13T16:56:32.212265",
     "status": "completed"
    },
    "tags": []
   },
   "source": [
    "---\n",
    "\n",
    "\n",
    "\n",
    "\n",
    "*Have questions or comments? Visit the [Learn Discussion forum](https://www.kaggle.com/learn-forum/161299) to chat with other Learners.*"
   ]
  }
 ],
 "metadata": {
  "kernelspec": {
   "display_name": "Python 3",
   "language": "python",
   "name": "python3"
  },
  "language_info": {
   "codemirror_mode": {
    "name": "ipython",
    "version": 3
   },
   "file_extension": ".py",
   "mimetype": "text/x-python",
   "name": "python",
   "nbconvert_exporter": "python",
   "pygments_lexer": "ipython3",
   "version": "3.7.9"
  },
  "papermill": {
   "default_parameters": {},
   "duration": 12.799321,
   "end_time": "2021-05-13T16:56:32.972091",
   "environment_variables": {},
   "exception": null,
   "input_path": "__notebook__.ipynb",
   "output_path": "__notebook__.ipynb",
   "parameters": {},
   "start_time": "2021-05-13T16:56:20.172770",
   "version": "2.3.2"
  }
 },
 "nbformat": 4,
 "nbformat_minor": 5
}
